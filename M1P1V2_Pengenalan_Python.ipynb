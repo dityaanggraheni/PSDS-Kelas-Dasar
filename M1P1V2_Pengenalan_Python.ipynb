{
  "nbformat": 4,
  "nbformat_minor": 0,
  "metadata": {
    "colab": {
      "name": "M1P1V2_Pengenalan_Python.ipynb",
      "provenance": []
    },
    "kernelspec": {
      "name": "python3",
      "display_name": "Python 3"
    },
    "language_info": {
      "name": "python"
    }
  },
  "cells": [
    {
      "cell_type": "markdown",
      "metadata": {
        "id": "LTKo-H_0JiT-"
      },
      "source": [
        "# **Pengenalan Python**"
      ]
    },
    {
      "cell_type": "markdown",
      "metadata": {
        "id": "UcvuxgVSKWJs"
      },
      "source": [
        "Python adalah Bahasa pemrograman tingkat tinggi dengan dynamic sementara, bersifat object oriented, dan interpretatif. Bahasa pemrograman ini fokus pada keterbacaan bahasa pemrograman.\n",
        "\n",
        "\n",
        "1.   **Bahasa Pemrograman Tingkat Tinggi(High Level Programming)** Artinya sintaks kode lebih mudah ditafsirkan oleh manusia.\n",
        "2.   **Interpretatif** ini artinya bahasa ini memerlukan intrepeter atau penerjemah. Ini memungkinkan bagi kita untuk menggunakan Bahasa yang lebih mudah kita pahami.\n",
        "3.   **Object Oriented** ini berarti bahwa bahasa pemrograman ini berorientasi kepada objek. Hal ini membuat Python lebih mudah untuk dikembangkan.\n",
        "4.   **Dynamic Semantics** Python secara otomatis akan menyesuaikan tipe dari suatu variable berdasarkan inputnya."
      ]
    },
    {
      "cell_type": "markdown",
      "metadata": {
        "id": "sqt5UZ34OHyd"
      },
      "source": [
        "# **Mengapa Python?**"
      ]
    },
    {
      "cell_type": "markdown",
      "metadata": {
        "id": "v56JSAIuOOFV"
      },
      "source": [
        "\n",
        "\n",
        "1.   Mudah dipahami\n",
        "2.   Gratis & Open Source\n",
        "3.   Dinamis\n",
        "4.   Memiliki Library Terlengkap untuk Data Sains\n",
        "\n",
        "\n",
        "\n"
      ]
    },
    {
      "cell_type": "markdown",
      "metadata": {
        "id": "vYFyGAnUOsyU"
      },
      "source": [
        "# **Struktur Program Pada Python**"
      ]
    },
    {
      "cell_type": "markdown",
      "metadata": {
        "id": "W_jvNDWhPnEN"
      },
      "source": [
        "Python pada umumnya terdiri dari:\n",
        "\n",
        "**1.   Statements**"
      ]
    },
    {
      "cell_type": "code",
      "metadata": {
        "colab": {
          "base_uri": "https://localhost:8080/"
        },
        "id": "SZwXg_0oJAmh",
        "outputId": "920386b6-508c-4f56-b363-a3735bcb8b7c"
      },
      "source": [
        "print(\"belajar Python menyenangkan\")\n",
        "print(\"halo dunia\")"
      ],
      "execution_count": null,
      "outputs": [
        {
          "output_type": "stream",
          "name": "stdout",
          "text": [
            "belajar Python menyenangkan\n",
            "halo dunia\n"
          ]
        }
      ]
    },
    {
      "cell_type": "markdown",
      "metadata": {
        "id": "n237tcyRPLKN"
      },
      "source": [
        "**2.   Variables**"
      ]
    },
    {
      "cell_type": "code",
      "metadata": {
        "id": "-Jo2jrs_PY4-"
      },
      "source": [
        "bilangan1 = 5\n",
        "bilangan2 = 10\n",
        "kalimat = \"Pejuang Data 3\""
      ],
      "execution_count": null,
      "outputs": []
    },
    {
      "cell_type": "markdown",
      "metadata": {
        "id": "fHpbCdkPPkdt"
      },
      "source": [
        "**3.   Literals:** Simbol-simbol yang dapat kita gunakan untuk mengisi suatu variabel."
      ]
    },
    {
      "cell_type": "markdown",
      "metadata": {
        "id": "8nKarJL-QDIV"
      },
      "source": [
        "**4.   Operators:** Simbol-simbol yang dapat digunakan untuk mengubah nilai dari satu variabel dengan melibatkan satu atau lebih variabel dan literal."
      ]
    },
    {
      "cell_type": "code",
      "metadata": {
        "colab": {
          "base_uri": "https://localhost:8080/"
        },
        "id": "relT1ZVnQbjr",
        "outputId": "8ee56cbf-cd66-4bf2-e176-3299b1a683e4"
      },
      "source": [
        "bilangan1 + bilangan2"
      ],
      "execution_count": null,
      "outputs": [
        {
          "output_type": "execute_result",
          "data": {
            "text/plain": [
              "15"
            ]
          },
          "metadata": {},
          "execution_count": 3
        }
      ]
    },
    {
      "cell_type": "markdown",
      "metadata": {
        "id": "I2kH3qJyQg0l"
      },
      "source": [
        "**5.   Reserved Words:** Kumpulan kata-kata yang memiliki makna khusus dalam bahasa pemrograman Python. Kata `False`, `return`, dan `for` merupakan contoh dari reserved words.\n",
        "\n"
      ]
    },
    {
      "cell_type": "markdown",
      "metadata": {
        "id": "MOHbCdcbRQew"
      },
      "source": [
        "**6.   Whitespace:** Pada bahasa Python, spasi dan tab memiliki makna khusus untuk menandai serangkaian blok dalam kode Python.\n",
        "\n"
      ]
    },
    {
      "cell_type": "markdown",
      "metadata": {
        "id": "VhoeDUCrRlN1"
      },
      "source": [
        "**7.   Comments:** Comments merupakan sekumpulan teks yang dituliskan di dalam sebuah program yang tidak akan mempengaruhi hasil darisebuah program."
      ]
    },
    {
      "cell_type": "markdown",
      "metadata": {
        "id": "t04yYhIGR8XW"
      },
      "source": [
        "Terdapat dua jenis comments di dalam Python, yaitu:\n",
        "\n",
        "\n",
        "**a.   single line comment** (comments dalam satu baris) seperti pada contoh berikut:"
      ]
    },
    {
      "cell_type": "code",
      "metadata": {
        "colab": {
          "base_uri": "https://localhost:8080/"
        },
        "id": "FA2_rb6XSeo7",
        "outputId": "852447c8-5a69-4b0f-fe53-59e7a47f2154"
      },
      "source": [
        "# Ini adalah Comment\n",
        "print(\"belajar Python\")"
      ],
      "execution_count": null,
      "outputs": [
        {
          "output_type": "stream",
          "name": "stdout",
          "text": [
            "belajar Python\n"
          ]
        }
      ]
    },
    {
      "cell_type": "markdown",
      "metadata": {
        "id": "ru7_WlYqSnxp"
      },
      "source": [
        "**b.   multi line comment** (comments dalam beberapa baris) yang dapat dituliskan seperti pada contoh berikut:"
      ]
    },
    {
      "cell_type": "code",
      "metadata": {
        "colab": {
          "base_uri": "https://localhost:8080/"
        },
        "id": "Iu1Q7BDDS7e-",
        "outputId": "1ce918ba-d927-4115-c0cd-b1ed26e467ce"
      },
      "source": [
        "'''\n",
        "Ini adalah komentar panjang\n",
        "Bisa digunakan untuk memberikan penjelasan\n",
        "panjang pada Sell kode Python,\n",
        "Misal dokumentasi program, spesifikasi\n",
        "input output atau lainnya\n",
        "'''\n",
        "\n",
        "print('Belajar Python menyenangkan')"
      ],
      "execution_count": null,
      "outputs": [
        {
          "output_type": "stream",
          "name": "stdout",
          "text": [
            "Belajar Python menyenangkan\n"
          ]
        }
      ]
    }
  ]
}