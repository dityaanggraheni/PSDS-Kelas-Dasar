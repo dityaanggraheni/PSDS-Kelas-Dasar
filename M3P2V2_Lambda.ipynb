{
  "nbformat": 4,
  "nbformat_minor": 0,
  "metadata": {
    "colab": {
      "name": "M3P2V2_Lambda.ipynb",
      "provenance": [],
      "collapsed_sections": []
    },
    "kernelspec": {
      "name": "python3",
      "display_name": "Python 3"
    },
    "language_info": {
      "name": "python"
    }
  },
  "cells": [
    {
      "cell_type": "markdown",
      "metadata": {
        "id": "l63bdajzdI0G"
      },
      "source": [
        "# **Lambda**\n",
        "Fungsi lambda adalah fungsi anonim `one line` yang didefinisikan tanpa nama. Fungsi lambda dapat mengambil sejumlah `arguments`, tetapi hanya dapat memiliki satu `expression`. Sementara fungsi normal didefinisikan menggunakan kata kunci `def`, dalam Python fungsi anonim didefinisikan menggunakan kata kunci lambda.\n",
        "\n",
        "Fungsi Lambda digunakan ketika fungsi sederhana hanya digunakan sekali atau untuk waktu yang singkat dalam kode kita. Penggunaannya yang paling umum adalah sebagai argumen untuk fungsi tingkat tinggi (fungsi yang menggunakan fungsi lain sebagai argumen)."
      ]
    },
    {
      "cell_type": "markdown",
      "metadata": {
        "id": "cHu5USDPevek"
      },
      "source": [
        "Lambda expression di Python adalah sebuah ekspresi untuk membuat fungsi.\n",
        "\n",
        "Lambda sendiri berasal dari teori kalkulus, yakni Lambda Calculus yang dikenalkan oleh Alonzo Church di tahun 1930.\n",
        "\n",
        "Berkat lambda, kita bisa membuat fungsi tanpa nama atau dikenal juga dengan anonymous function.\n",
        "\n",
        "Misalkan kita punya fungsi penjumlahan kuadrat seperti ini:"
      ]
    },
    {
      "cell_type": "code",
      "metadata": {
        "id": "vopLcmxVeuB7"
      },
      "source": [
        "def square_sum(x,y):\n",
        "  return x**2 + y**2"
      ],
      "execution_count": 1,
      "outputs": []
    },
    {
      "cell_type": "markdown",
      "metadata": {
        "id": "ON5oHkfqf51h"
      },
      "source": [
        "dengan lambda, lita tidak perlu menggunakan def dan return, bahkan kita tidak perlu menuliskan namanya."
      ]
    },
    {
      "cell_type": "code",
      "metadata": {
        "colab": {
          "base_uri": "https://localhost:8080/"
        },
        "id": "id_X38Q1YxDh",
        "outputId": "e499a3ca-448f-4496-fe4a-b41858baff4f"
      },
      "source": [
        "lambda x,y : x**2 + y**2"
      ],
      "execution_count": 2,
      "outputs": [
        {
          "output_type": "execute_result",
          "data": {
            "text/plain": [
              "<function __main__.<lambda>>"
            ]
          },
          "metadata": {},
          "execution_count": 2
        }
      ]
    },
    {
      "cell_type": "markdown",
      "metadata": {
        "id": "NoAMHkOlgSct"
      },
      "source": [
        "# **Menggunakan Lambda Expression**"
      ]
    },
    {
      "cell_type": "markdown",
      "metadata": {
        "id": "QNEI-MdPgWtD"
      },
      "source": [
        "Intinya, lambda digunakan untuk membuat fungsi dalam satu baris ekspresi.\n",
        "\n",
        "Ini adalah format untuk membuat fungsi lambda:\n",
        "\n",
        "![lambda.png](data:image/png;base64,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)\n",
        "\n",
        "Lambda bisa memiliki lebih dari satu arguman atau parameter, tetapi hanya bisa memiliki satu ekspresi atau isi."
      ]
    },
    {
      "cell_type": "code",
      "metadata": {
        "id": "A0FAVA1thxZO"
      },
      "source": [
        "greeting = lambda name: print(f\"Hello, {name}\")"
      ],
      "execution_count": 3,
      "outputs": []
    },
    {
      "cell_type": "markdown",
      "metadata": {
        "id": "eQ0UaX3Yh-ay"
      },
      "source": [
        "Karena fungsi lambda tidak punya nama, jadi kita butuh variabel untuk menyimpannya.\n",
        "\n",
        "Nanti saat kita mau panggil, kita tinggal tuliskan saja nama variabelnya seperti ini:"
      ]
    },
    {
      "cell_type": "code",
      "metadata": {
        "colab": {
          "base_uri": "https://localhost:8080/"
        },
        "id": "7IgUzyJRiUGD",
        "outputId": "f7a1458e-2567-4462-9535-fadcc463d385"
      },
      "source": [
        "greeting(\"Dian\")\n",
        "greeting(\"Ayu\")"
      ],
      "execution_count": 4,
      "outputs": [
        {
          "output_type": "stream",
          "name": "stdout",
          "text": [
            "Hello, Dian\n",
            "Hello, Ayu\n"
          ]
        }
      ]
    },
    {
      "cell_type": "markdown",
      "metadata": {
        "id": "HriKHGLnibpO"
      },
      "source": [
        "Beberapa contoh penggunaan fungsi lambda"
      ]
    },
    {
      "cell_type": "code",
      "metadata": {
        "colab": {
          "base_uri": "https://localhost:8080/"
        },
        "id": "HRYHtYDYiGp2",
        "outputId": "7146f168-3f28-486e-80f4-f3ca317f5f88"
      },
      "source": [
        "# Fungsi lambda untuk menambahkan angka 10 kepada argument input\n",
        "f = lambda x: x+10\n",
        "val1 = f(5)\n",
        "val2 = f(100)\n",
        "print(val1, val2)"
      ],
      "execution_count": 5,
      "outputs": [
        {
          "output_type": "stream",
          "name": "stdout",
          "text": [
            "15 110\n"
          ]
        }
      ]
    },
    {
      "cell_type": "code",
      "metadata": {
        "colab": {
          "base_uri": "https://localhost:8080/"
        },
        "id": "KonHtklPiya9",
        "outputId": "fb5fd614-8789-403c-d334-0c3dc9d5516e"
      },
      "source": [
        "# Fungsi lambda untuk mengalikan dua argument input dan menampilkan hasilnya\n",
        "f = lambda x,y: x*y\n",
        "val3 = f(2,10)\n",
        "val4 = f(7,5)\n",
        "print(val3, val4)"
      ],
      "execution_count": 6,
      "outputs": [
        {
          "output_type": "stream",
          "name": "stdout",
          "text": [
            "20 35\n"
          ]
        }
      ]
    },
    {
      "cell_type": "markdown",
      "metadata": {
        "id": "62_J896FjF39"
      },
      "source": [
        "# **Anonymous Function**"
      ]
    },
    {
      "cell_type": "markdown",
      "metadata": {
        "id": "s9cO0mLKjK8X"
      },
      "source": [
        "Karena lambda adalah anonymous function, ia akan bebas menggunakan nama apa saja. Dengan kata lain, fungsi lambda bisa disimpan di variabel manapun. Ini tentunya tidak bisa dilakukan oleh fungsi yang dibuat dengan def. Coba perhatikan ini:"
      ]
    },
    {
      "cell_type": "code",
      "metadata": {
        "colab": {
          "base_uri": "https://localhost:8080/",
          "height": 197
        },
        "id": "9XmO45VxjkbB",
        "outputId": "00dea562-d6bc-4702-8d58-adf693e62350"
      },
      "source": [
        "def say_hello(nama):\n",
        "  print(f\"Hello {nama}, apa kabar?\")\n",
        "\n",
        "ucapin = say_hello(nama)"
      ],
      "execution_count": 7,
      "outputs": [
        {
          "output_type": "error",
          "ename": "NameError",
          "evalue": "ignored",
          "traceback": [
            "\u001b[0;31m---------------------------------------------------------------------------\u001b[0m",
            "\u001b[0;31mNameError\u001b[0m                                 Traceback (most recent call last)",
            "\u001b[0;32m<ipython-input-7-71af2e88b3b4>\u001b[0m in \u001b[0;36m<module>\u001b[0;34m()\u001b[0m\n\u001b[1;32m      2\u001b[0m   \u001b[0mprint\u001b[0m\u001b[0;34m(\u001b[0m\u001b[0;34mf\"Hello {nama}, apa kabar?\"\u001b[0m\u001b[0;34m)\u001b[0m\u001b[0;34m\u001b[0m\u001b[0;34m\u001b[0m\u001b[0m\n\u001b[1;32m      3\u001b[0m \u001b[0;34m\u001b[0m\u001b[0m\n\u001b[0;32m----> 4\u001b[0;31m \u001b[0mucapin\u001b[0m \u001b[0;34m=\u001b[0m \u001b[0msay_hello\u001b[0m\u001b[0;34m(\u001b[0m\u001b[0mnama\u001b[0m\u001b[0;34m)\u001b[0m\u001b[0;34m\u001b[0m\u001b[0;34m\u001b[0m\u001b[0m\n\u001b[0m",
            "\u001b[0;31mNameError\u001b[0m: name 'nama' is not defined"
          ]
        }
      ]
    },
    {
      "cell_type": "markdown",
      "metadata": {
        "id": "4r7yOlQrj024"
      },
      "source": [
        "Saya mencoba membuat fungsi say_hello() dengan def, kemudian menyimpannya ke dalam variabel ucapin.\n",
        "\n",
        "Tapi malah error!\n",
        "\n",
        "Ini karena fungsi tersebut bukanlah fungsi anonymous yang boleh diubah-ubah namanya.\n",
        "\n",
        "Lalu coba perhatikan di baris terakhir, fungsi lambda greeting() yang sudah dibuat disimpan lagi ke variabel yang berbeda, yakni sapa."
      ]
    },
    {
      "cell_type": "code",
      "metadata": {
        "colab": {
          "base_uri": "https://localhost:8080/"
        },
        "id": "nbypYVXPkXwM",
        "outputId": "0ee0dcc9-5a21-4360-e714-11655cf7236a"
      },
      "source": [
        "greeting = lambda name: print(f\"Hello, {name}\")\n",
        "sapa = greeting\n",
        "greeting(\"Andi\")\n",
        "sapa(\"Neli\")"
      ],
      "execution_count": 9,
      "outputs": [
        {
          "output_type": "stream",
          "name": "stdout",
          "text": [
            "Hello, Andi\n",
            "Hello, Neli\n"
          ]
        }
      ]
    },
    {
      "cell_type": "markdown",
      "metadata": {
        "id": "7YXdGfKkkvWc"
      },
      "source": [
        "Hasilnya tidak error, karena ini adalah fungsi anonymous atau lambda."
      ]
    },
    {
      "cell_type": "markdown",
      "metadata": {
        "id": "C7dJQDqUk3Hj"
      },
      "source": [
        "# **Eksekusi Lambda Secara Langsung**"
      ]
    },
    {
      "cell_type": "markdown",
      "metadata": {
        "id": "sSx9uywfk7qz"
      },
      "source": [
        "Kelebihan fungsi lambda dibandingkan def adalah bisa kita eksekusi langsung.\n",
        "\n",
        "Contohnya:"
      ]
    },
    {
      "cell_type": "code",
      "metadata": {
        "colab": {
          "base_uri": "https://localhost:8080/"
        },
        "id": "nUs3ne_llK17",
        "outputId": "5b5a3ca2-1fac-4741-dd4e-c0ab541e29b6"
      },
      "source": [
        "(lambda x,y: x**2 + y**2)(4,6)"
      ],
      "execution_count": 10,
      "outputs": [
        {
          "output_type": "execute_result",
          "data": {
            "text/plain": [
              "52"
            ]
          },
          "metadata": {},
          "execution_count": 10
        }
      ]
    },
    {
      "cell_type": "markdown",
      "metadata": {
        "id": "6w5Fi2dBlUV9"
      },
      "source": [
        "Tanda kurung yang mengapit fungsi lambda artinya kita akan langsung mengeksekusi fungsi tersebut.\n",
        "\n",
        "Lalu kurung berikutnya akan berisi parameter.\n",
        "\n",
        "Angka 4 dan 6 adalah parameter x dan y yang akan diberikan kepada fungsi lambda.\n",
        "\n",
        "Maka kita akan langsung mendapatkan hasilnya, yakni 42 + 62 = 52.\n",
        "\n",
        "Hasil dari eksekusi ini bisa juga kita simpan ke dalam variabel."
      ]
    },
    {
      "cell_type": "code",
      "metadata": {
        "id": "DmWUxfm7l1sJ"
      },
      "source": [
        "Hasil = (lambda x,y: x**2 + y**2)(4,6)"
      ],
      "execution_count": 11,
      "outputs": []
    },
    {
      "cell_type": "markdown",
      "metadata": {
        "id": "oFigsdvCl_w0"
      },
      "source": [
        "# **Mengapa Harus Pakai Lambda**\n",
        "\n",
        "Kita memang tidak harus selalu menggunakan Lambda, tapi dalam kasus tertentu lambda lebih baik dibandingkan fungsi biasa.\n",
        "\n",
        "Lambda biasanya dibutuhkan saat kita ingin membuat fungsi dalam satu baris.\n",
        "\n",
        "Biasanya saat menggunakan fungsi-fungsi seperti `filter()`, `map()`, dan `reduce()` kita akan membutuhkan Lambda.\n",
        "\n",
        "Mengapa?\n",
        "\n",
        "Karena fungsi-fungsi tersebut membutuhkan parameter fungsi.\n",
        "\n",
        "Contoh:"
      ]
    },
    {
      "cell_type": "code",
      "metadata": {
        "colab": {
          "base_uri": "https://localhost:8080/"
        },
        "id": "1grFRPeqmv2T",
        "outputId": "ead05bb3-b8a9-4460-d609-849bd1984dd3"
      },
      "source": [
        "bilangan = [10,2,8,7,5,4,3,11,0,1]\n",
        "filtered_result = map(lambda x: x*x, bilangan)\n",
        "print(list(filtered_result))"
      ],
      "execution_count": 12,
      "outputs": [
        {
          "output_type": "stream",
          "name": "stdout",
          "text": [
            "[100, 4, 64, 49, 25, 16, 9, 121, 0, 1]\n"
          ]
        }
      ]
    },
    {
      "cell_type": "markdown",
      "metadata": {
        "id": "WqOZVxK8nKPJ"
      },
      "source": [
        "Pada fungsi map() kita memberikan parameter dengan fungsi lambda.\n",
        "\n",
        "Mengapa bisa begitu?\n",
        "\n",
        "Karena lambda bisa disimpan ke dalam variabel, otomatis dia akan bisa juga jadi parameter.\n",
        "\n",
        "Satu lagi contoh dengan fungsi filter():"
      ]
    },
    {
      "cell_type": "code",
      "metadata": {
        "colab": {
          "base_uri": "https://localhost:8080/"
        },
        "id": "b5Y-NsfZl-lI",
        "outputId": "7bf740d3-ed78-420f-c069-63bdb2f6f07a"
      },
      "source": [
        "# menentukan bilangan genap\n",
        "genap = lambda x: x%2 == 0\n",
        "list(filter(genap, range(11)))"
      ],
      "execution_count": 13,
      "outputs": [
        {
          "output_type": "execute_result",
          "data": {
            "text/plain": [
              "[0, 2, 4, 6, 8, 10]"
            ]
          },
          "metadata": {},
          "execution_count": 13
        }
      ]
    },
    {
      "cell_type": "markdown",
      "metadata": {
        "id": "4FX2hAeLnsgm"
      },
      "source": [
        "# **Latihan**"
      ]
    },
    {
      "cell_type": "markdown",
      "metadata": {
        "id": "2mKw1Ns-n1Ex"
      },
      "source": [
        "**1. Buatlah fungsi lambda untuk menghitung luas dan persegi panjang**\n",
        "\n",
        "\n",
        "\n",
        "```\n",
        "*   input berupa variabel p dan l\n",
        "*   fungsi lambda disimpan dalam variabel 'Luas_Persegi_Panjang'\n",
        "*   Jika fungsi lambda dijalankan akan menghasilkan output \"Luas Persegi Panjang anda *(luasnya)* cm\"\n",
        "```\n",
        "\n"
      ]
    },
    {
      "cell_type": "code",
      "metadata": {
        "colab": {
          "base_uri": "https://localhost:8080/"
        },
        "id": "i3A8tnv6oivw",
        "outputId": "44b4f8cd-b5de-442d-83e6-e0352ec2affb"
      },
      "source": [
        "Luas_Persegi_Panjang = lambda p,l: p*l\n",
        "hasil1 = Luas_Persegi_Panjang(5,10)\n",
        "print(\"Luas Persegi Panjang anda\",hasil1,\"cm\")"
      ],
      "execution_count": 17,
      "outputs": [
        {
          "output_type": "stream",
          "name": "stdout",
          "text": [
            "Luas Persegi Panjang anda 50 cm\n"
          ]
        }
      ]
    },
    {
      "cell_type": "markdown",
      "metadata": {
        "id": "budLZH-Kogdz"
      },
      "source": [
        "**2. Buatlah fungsi Lambda untuk menghitung luas dari segitiga**\n",
        "\n",
        "\n",
        "```\n",
        "*   input berupa variabel a dan t\n",
        "*   fungsi lambda disimpan dalam variabel 'Luas_Segitiga'\n",
        "*   Jika fungsi lambda dijalankan akan menghasilkan output \"Luas Segitiga anda *(luasnya)* cm\"\n",
        "```\n",
        "\n"
      ]
    },
    {
      "cell_type": "code",
      "metadata": {
        "colab": {
          "base_uri": "https://localhost:8080/"
        },
        "id": "o5qVcoXopAUR",
        "outputId": "0c83c555-31cc-4c65-93a0-8e131f789da5"
      },
      "source": [
        "Luas_Segitiga = lambda a,t: (1/2)*a*t\n",
        "hasil2 = Luas_Segitiga(3,4)\n",
        "print(\"Luas Segitiga anda\",hasil2,\"cm\")"
      ],
      "execution_count": 18,
      "outputs": [
        {
          "output_type": "stream",
          "name": "stdout",
          "text": [
            "Luas Segitiga anda 6.0 cm\n"
          ]
        }
      ]
    }
  ]
}