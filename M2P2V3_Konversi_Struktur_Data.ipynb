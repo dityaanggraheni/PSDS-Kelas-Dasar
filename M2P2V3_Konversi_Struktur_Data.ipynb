{
  "nbformat": 4,
  "nbformat_minor": 0,
  "metadata": {
    "colab": {
      "name": "M2P2V3_Konversi_Struktur_Data.ipynb",
      "provenance": []
    },
    "kernelspec": {
      "name": "python3",
      "display_name": "Python 3"
    },
    "language_info": {
      "name": "python"
    }
  },
  "cells": [
    {
      "cell_type": "markdown",
      "metadata": {
        "id": "fW8E50MCz79T"
      },
      "source": [
        "# **Konversi Struktur Data**"
      ]
    },
    {
      "cell_type": "markdown",
      "metadata": {
        "id": "aU7jisfP0B1N"
      },
      "source": [
        "Fungsi untuk mengubah/konversi struktur data:\n",
        "\n",
        "\n",
        "a.   `list()` : untuk mengubah menjadi list\n",
        "\n",
        "b.   `tuple()` : untuk mengubah menjadi tuple\n",
        "\n",
        "c.   `set()` : untuk mengubah menjadi set\n",
        "\n",
        "d.   `dict()` : untuk mengubah menjadi dictionary \n",
        "\n"
      ]
    },
    {
      "cell_type": "markdown",
      "metadata": {
        "id": "V71ECAXr0mgi"
      },
      "source": [
        "## **Mengkonversi tipe data list:**"
      ]
    },
    {
      "cell_type": "code",
      "metadata": {
        "id": "vLHBum37ztKI"
      },
      "source": [
        "#Membuat 2 list\n",
        "L1 = [1, 2, 3, 4]\n",
        "L2 = [5, 6, 7, 8]"
      ],
      "execution_count": 1,
      "outputs": []
    },
    {
      "cell_type": "code",
      "metadata": {
        "colab": {
          "base_uri": "https://localhost:8080/"
        },
        "id": "o4gYDSq61QKw",
        "outputId": "2c86aeca-2645-4821-8937-fc19c71b13e5"
      },
      "source": [
        "#Mengkonversi struktur data list\n",
        "k_tuple = tuple(L1)\n",
        "k_set = set(L2)\n",
        "k_dict = dict(zip(L1, L2))\n",
        "\n",
        "#Melihat data yang telah dikonversi\n",
        "print(k_tuple)\n",
        "print(k_set)\n",
        "print(k_dict)"
      ],
      "execution_count": 2,
      "outputs": [
        {
          "output_type": "stream",
          "name": "stdout",
          "text": [
            "(1, 2, 3, 4)\n",
            "{8, 5, 6, 7}\n",
            "{1: 5, 2: 6, 3: 7, 4: 8}\n"
          ]
        }
      ]
    },
    {
      "cell_type": "markdown",
      "metadata": {
        "id": "vGMd20lO11gp"
      },
      "source": [
        "## **Mengkonversi tipe data tuple:**"
      ]
    },
    {
      "cell_type": "code",
      "metadata": {
        "id": "VKq833Ss18U3"
      },
      "source": [
        "#Membuat dua tuple\n",
        "T1 = (1, 2, 3, 4)\n",
        "T2 = (5, 6, 7, 8)"
      ],
      "execution_count": 3,
      "outputs": []
    },
    {
      "cell_type": "code",
      "metadata": {
        "colab": {
          "base_uri": "https://localhost:8080/"
        },
        "id": "akC_3NNg2JfU",
        "outputId": "eb6d7428-d6d2-4810-8bf9-177e024b806a"
      },
      "source": [
        "#Mengkonversi struktur data tuple\n",
        "k_list = list(T1)\n",
        "k_set = set(T2)\n",
        "k_dict = dict(zip(T1, T2))\n",
        "\n",
        "#Melihat data yang telah dikonversi\n",
        "print(k_list)\n",
        "print(k_set)\n",
        "print(k_dict)"
      ],
      "execution_count": 4,
      "outputs": [
        {
          "output_type": "stream",
          "name": "stdout",
          "text": [
            "[1, 2, 3, 4]\n",
            "{8, 5, 6, 7}\n",
            "{1: 5, 2: 6, 3: 7, 4: 8}\n"
          ]
        }
      ]
    },
    {
      "cell_type": "markdown",
      "metadata": {
        "id": "Zq839rIv2ZSI"
      },
      "source": [
        "## **Mengkonversi tipe data set:**"
      ]
    },
    {
      "cell_type": "code",
      "metadata": {
        "id": "7aXYHUqx2e2d"
      },
      "source": [
        "#Membuat dua set\n",
        "S1 = {1, 2, 3, 4}\n",
        "S2 = {5, 6, 7, 8}"
      ],
      "execution_count": 5,
      "outputs": []
    },
    {
      "cell_type": "code",
      "metadata": {
        "colab": {
          "base_uri": "https://localhost:8080/"
        },
        "id": "4lYXnP6w2oMA",
        "outputId": "ce598f95-7b4d-4926-ccc8-369453f5b43c"
      },
      "source": [
        "#Mengkonversi struktur data set\n",
        "k_list = list(S1)\n",
        "k_tuple = tuple(S2)\n",
        "k_dict = dict(zip(S1, S2))\n",
        "\n",
        "#Melihat data yang telah dikonversi\n",
        "print(k_list)\n",
        "print(k_tuple)\n",
        "print(k_dict)"
      ],
      "execution_count": 6,
      "outputs": [
        {
          "output_type": "stream",
          "name": "stdout",
          "text": [
            "[1, 2, 3, 4]\n",
            "(8, 5, 6, 7)\n",
            "{1: 8, 2: 5, 3: 6, 4: 7}\n"
          ]
        }
      ]
    },
    {
      "cell_type": "markdown",
      "metadata": {
        "id": "H3r-bYr43YBd"
      },
      "source": [
        "## **Mengkonversi tipe data list:**"
      ]
    },
    {
      "cell_type": "code",
      "metadata": {
        "id": "J2XecHML3eeD"
      },
      "source": [
        "#Membuat dictionary\n",
        "D = {\n",
        "    \"nama\": \"Andi\",\n",
        "     \"alamat\": \"Yogyakarta\",\n",
        "     \"umur\": 20\n",
        "}"
      ],
      "execution_count": 7,
      "outputs": []
    },
    {
      "cell_type": "code",
      "metadata": {
        "colab": {
          "base_uri": "https://localhost:8080/"
        },
        "id": "V_ASjD1u3yQ9",
        "outputId": "e34612bc-2f04-40ab-954e-bc39e62fecf8"
      },
      "source": [
        "#Mengkonversi struktur data dictionary dari key dan value-nya\n",
        "k_list = list(D.keys())\n",
        "k_tuple = tuple(D.values())\n",
        "k_set = set(D.keys())\n",
        "\n",
        "#Melihat data yang telah dikonversi\n",
        "print(k_list)\n",
        "print(k_tuple)\n",
        "print(k_set)"
      ],
      "execution_count": 10,
      "outputs": [
        {
          "output_type": "stream",
          "name": "stdout",
          "text": [
            "['nama', 'alamat', 'umur']\n",
            "('Andi', 'Yogyakarta', 20)\n",
            "{'nama', 'alamat', 'umur'}\n"
          ]
        }
      ]
    },
    {
      "cell_type": "markdown",
      "metadata": {
        "id": "WDF4KFHd4YZb"
      },
      "source": [
        "## **Latihan**"
      ]
    },
    {
      "cell_type": "code",
      "metadata": {
        "id": "sLwJK2454Xeh"
      },
      "source": [
        "#Lakukan konversi struktur data yang kalian buat pada notebook-notebook\n",
        "#sebelumnya menjadi list, tuple, set, dan dictionary\n",
        "\n",
        "#list\n",
        "list1 = [7, 9, 11]\n",
        "list2 = [\"bear\",\"sunflo\",66]\n",
        "\n",
        "#tuple\n",
        "t1 = (18, 3+5j, \"Oktober\", False, 12)\n",
        "t2 = (1, 1, 1, \"satu\")\n",
        "\n",
        "#set\n",
        "set1 = {\"red\", \"rose\", True}\n",
        "set2 = {7, 35, 1+2j}\n",
        "\n",
        "#dictionary\n",
        "dic = {'satu':1, 'tiga':3, 'lima':5, 'tujuh':7}"
      ],
      "execution_count": 19,
      "outputs": []
    },
    {
      "cell_type": "code",
      "metadata": {
        "colab": {
          "base_uri": "https://localhost:8080/"
        },
        "id": "wWsRte2vBRHv",
        "outputId": "39efadb8-5985-4ffa-df53-514824eab678"
      },
      "source": [
        "#Mengkonversi struktur data list\n",
        "konv_tuple = tuple(list1)\n",
        "konv_set = set(list2)\n",
        "konv_dict = dict(zip(list1, list2))\n",
        "\n",
        "#Melihat data yang telah dikonversi\n",
        "print(konv_tuple)\n",
        "print(konv_set)\n",
        "print(konv_dict)"
      ],
      "execution_count": 16,
      "outputs": [
        {
          "output_type": "stream",
          "name": "stdout",
          "text": [
            "(7, 9, 11)\n",
            "{'sunflo', 'bear', 66}\n",
            "{7: 'bear', 9: 'sunflo', 11: 66}\n"
          ]
        }
      ]
    },
    {
      "cell_type": "code",
      "metadata": {
        "colab": {
          "base_uri": "https://localhost:8080/"
        },
        "id": "aPdE8uZ3BbA-",
        "outputId": "d87078f9-d4e8-4e1d-88de-1cb4f5c03002"
      },
      "source": [
        "#Mengkonversi struktur data tuple\n",
        "konv_list = list(t1)\n",
        "konv_set = set(t2)\n",
        "konv_dict = dict(zip(t1, t2))\n",
        "\n",
        "#Melihat data yang telah dikonversi\n",
        "print(konv_list)\n",
        "print(konv_set)\n",
        "print(konv_dict)"
      ],
      "execution_count": 20,
      "outputs": [
        {
          "output_type": "stream",
          "name": "stdout",
          "text": [
            "[18, (3+5j), 'Oktober', False, 12]\n",
            "{1, 'satu'}\n",
            "{18: 1, (3+5j): 1, 'Oktober': 1, False: 'satu'}\n"
          ]
        }
      ]
    },
    {
      "cell_type": "code",
      "metadata": {
        "colab": {
          "base_uri": "https://localhost:8080/"
        },
        "id": "abX13rvZBgZF",
        "outputId": "aef590d6-8cbf-4c8e-99de-2ff6384523ed"
      },
      "source": [
        "#Mengkonversi struktur data set\n",
        "konv_list = list(set1)\n",
        "konv_tuple = tuple(set2)\n",
        "konv_dict = dict(zip(set1, set2))\n",
        "\n",
        "#Melihat data yang telah dikonversi\n",
        "print(konv_list)\n",
        "print(konv_tuple)\n",
        "print(konv_dict)"
      ],
      "execution_count": 21,
      "outputs": [
        {
          "output_type": "stream",
          "name": "stdout",
          "text": [
            "[True, 'red', 'rose']\n",
            "((1+2j), 35, 7)\n",
            "{True: (1+2j), 'red': 35, 'rose': 7}\n"
          ]
        }
      ]
    },
    {
      "cell_type": "code",
      "metadata": {
        "colab": {
          "base_uri": "https://localhost:8080/"
        },
        "id": "uc53mp_qBpvA",
        "outputId": "a71604e5-e72e-49b8-ac49-3828e359a59d"
      },
      "source": [
        "#Mengkonversi struktur data dictionary dari key dan value-nya\n",
        "konv_list = list(dic.keys())\n",
        "konv_tuple = tuple(dic.values())\n",
        "konv_set = set(dic.keys())\n",
        "\n",
        "#Melihat data yang telah dikonversi\n",
        "print(konv_list)\n",
        "print(konv_tuple)\n",
        "print(konv_set)"
      ],
      "execution_count": 23,
      "outputs": [
        {
          "output_type": "stream",
          "name": "stdout",
          "text": [
            "['satu', 'tiga', 'lima', 'tujuh']\n",
            "(1, 3, 5, 7)\n",
            "{'lima', 'tujuh', 'satu', 'tiga'}\n"
          ]
        }
      ]
    }
  ]
}