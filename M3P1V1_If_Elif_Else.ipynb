{
  "nbformat": 4,
  "nbformat_minor": 0,
  "metadata": {
    "colab": {
      "name": "M3P1V1_If_Elif_Else.ipynb",
      "provenance": [],
      "collapsed_sections": []
    },
    "kernelspec": {
      "name": "python3",
      "display_name": "Python 3"
    },
    "language_info": {
      "name": "python"
    }
  },
  "cells": [
    {
      "cell_type": "markdown",
      "metadata": {
        "id": "zJdWhf8KR6U4"
      },
      "source": [
        "# **Percabangan/Struktur Pemilihan**"
      ]
    },
    {
      "cell_type": "markdown",
      "metadata": {
        "id": "OdOLbE9eSACF"
      },
      "source": [
        "Pada bagian ini, kamu akan membuat keputusan pada bahasa pemrograman Python menggunakan struktur percabangan atau sering disebut IF ELSE Statement. Pengambilan keputusan dibutuhkan ketika kamu akan mengeksekusi suatu kode jika sebuah kondisi tertentu dipenuhi.\n",
        "\n",
        "Statement `if...elif...else` digunakan pada bahasa Python untuk pengambilan keputusan."
      ]
    },
    {
      "cell_type": "markdown",
      "metadata": {
        "id": "zOOlTb7PTQFB"
      },
      "source": [
        "## **IF Statements**"
      ]
    },
    {
      "cell_type": "markdown",
      "metadata": {
        "id": "u39OvaRDTaTc"
      },
      "source": [
        "Python IF Statement Syntax"
      ]
    },
    {
      "cell_type": "code",
      "metadata": {
        "id": "rTRXuKTZQwvW"
      },
      "source": [
        "if test ecpression:\n",
        "  statement(s)"
      ],
      "execution_count": null,
      "outputs": []
    },
    {
      "cell_type": "markdown",
      "metadata": {
        "id": "cHk6PgHZT06D"
      },
      "source": [
        "Python IF Statement Flowchart\n",
        "\n",
        "![if.jpg](data:image/jpeg;base64,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)"
      ]
    },
    {
      "cell_type": "markdown",
      "metadata": {
        "id": "Ekwz8PHKVGXQ"
      },
      "source": [
        "Example: Python IF Statement"
      ]
    },
    {
      "cell_type": "code",
      "metadata": {
        "colab": {
          "base_uri": "https://localhost:8080/"
        },
        "id": "bzgkwVP2V9P9",
        "outputId": "c182879d-ebe4-4f41-da03-f5ac13b13995"
      },
      "source": [
        "#Jika angka adalah bilangan positif maka print \"adalah bilangan positif\"\n",
        "\n",
        "angka = 3\n",
        "if angka > 0:\n",
        "  print(angka, \"adalah bilangan positif.\")\n",
        "print(\"Pernyataan ini selalu ditampilkan.\")\n",
        "\n",
        "angka = -1\n",
        "if angka > 0:\n",
        "  print(angka, \"adalah bilangan positif.\")\n",
        "print(\"Pernyataan ini juga selalu ditampilkan.\")"
      ],
      "execution_count": null,
      "outputs": [
        {
          "output_type": "stream",
          "name": "stdout",
          "text": [
            "3 adalah bilangan positif.\n",
            "Pernyataan ini selalu ditampilkan.\n",
            "Pernyataan ini juga selalu ditampilkan.\n"
          ]
        }
      ]
    },
    {
      "cell_type": "markdown",
      "metadata": {
        "id": "7b8QF7OBXKrC"
      },
      "source": [
        "## **IF ELSE Statements**"
      ]
    },
    {
      "cell_type": "markdown",
      "metadata": {
        "id": "0ngYRRj1XT72"
      },
      "source": [
        "Python IF ELSE Statement Syntax"
      ]
    },
    {
      "cell_type": "code",
      "metadata": {
        "id": "SP_5869-eZH-"
      },
      "source": [
        "if test expression:\n",
        "  Body of if\n",
        "else:\n",
        "  Body of else"
      ],
      "execution_count": null,
      "outputs": []
    },
    {
      "cell_type": "markdown",
      "metadata": {
        "id": "DoD3OUJCeZsT"
      },
      "source": [
        "Python IF ELSE Statement Flowchart\n",
        "\n",
        "![if-else.jpg](data:image/jpeg;base64,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)"
      ]
    },
    {
      "cell_type": "markdown",
      "metadata": {
        "id": "KZc8Z0E6b0PX"
      },
      "source": [
        "Example: Python IF ELSE Statement"
      ]
    },
    {
      "cell_type": "code",
      "metadata": {
        "colab": {
          "base_uri": "https://localhost:8080/"
        },
        "id": "c5vsnl-DXP6t",
        "outputId": "586b4418-a62d-400b-f071-97808659a2c4"
      },
      "source": [
        "#Program disusun untutk mengecek apakah angka kurang dari 0 atau tidak\n",
        "#dan menampilkan tulisan yang sesuai\n",
        "\n",
        "angka = 3\n",
        "\n",
        "if angka >= 0:\n",
        "  print(\"Bilangan lebih dari atau samadengan 0\")\n",
        "else:\n",
        "  print(\"Bilangan kurang dari 0\")"
      ],
      "execution_count": null,
      "outputs": [
        {
          "output_type": "stream",
          "name": "stdout",
          "text": [
            "Bilangan lebih dari atau samadengan 0\n"
          ]
        }
      ]
    },
    {
      "cell_type": "code",
      "metadata": {
        "colab": {
          "base_uri": "https://localhost:8080/"
        },
        "id": "3AlhTGPHcY0l",
        "outputId": "3483d70b-75d5-4855-b024-458ccb7ac5c1"
      },
      "source": [
        "#Program disusun untutk mengecek apakah dua buah angka sama atau tidak\n",
        "#dan menampilkan tulisan yang sesuai\n",
        "\n",
        "a = 5\n",
        "b = 5\n",
        "\n",
        "if a==b:\n",
        "  print(\"a dan b bernilai sama\")\n",
        "else:\n",
        "  print(\"a dan b bernilai berbeda\")"
      ],
      "execution_count": null,
      "outputs": [
        {
          "output_type": "stream",
          "name": "stdout",
          "text": [
            "a dan b bernilai sama\n"
          ]
        }
      ]
    },
    {
      "cell_type": "code",
      "metadata": {
        "colab": {
          "base_uri": "https://localhost:8080/"
        },
        "id": "27Hm3L05c4t_",
        "outputId": "a86c0f9a-2f6d-474b-c644-624b5f62f440"
      },
      "source": [
        "#Program disusun untutk mengecek apakah perbandingan dua buah angka\n",
        "#dan menampilkan tulisan yang sesuai\n",
        "\n",
        "#membaca dua angka\n",
        "bil1 = int(input(\"Masukkan bilangan pertama: \"))\n",
        "bil2 = int(input(\"Masukkan bilangan kedua: \"))\n",
        "\n",
        "#Memilih bilangan yang lebih besar\n",
        "if bil1 > bil2:\n",
        "  bil_lebih_besar = bil1\n",
        "else:\n",
        "  bil_lebih_besar = bil2\n",
        "\n",
        "#Menampilkan hasil\n",
        "print(\"Bilangan yang lebih besar adalah:\", bil_lebih_besar)"
      ],
      "execution_count": null,
      "outputs": [
        {
          "output_type": "stream",
          "name": "stdout",
          "text": [
            "Masukkan bilangan pertama: 3\n",
            "Masukkan bilangan kedua: 5\n",
            "Bilangan yang lebih besar adalah: 5\n"
          ]
        }
      ]
    },
    {
      "cell_type": "markdown",
      "metadata": {
        "id": "wqnJ0HsMeEh_"
      },
      "source": [
        "## **IF ELIF ELSE Statements**"
      ]
    },
    {
      "cell_type": "markdown",
      "metadata": {
        "id": "SdU415fDeLsl"
      },
      "source": [
        "Python IF ELIF ELSE Statement Syntax"
      ]
    },
    {
      "cell_type": "code",
      "metadata": {
        "id": "Et-SJhmreSCE"
      },
      "source": [
        "if test expression:\n",
        "  Body of if\n",
        "elif test expression:\n",
        "  Body of elif\n",
        "else:\n",
        "  Body of else"
      ],
      "execution_count": null,
      "outputs": []
    },
    {
      "cell_type": "markdown",
      "metadata": {
        "id": "k97A_wj5e4e6"
      },
      "source": [
        "Python IF ELIF ELSE Statement Flow Chart\n",
        "\n",
        "![if-elif-else.jpg](data:image/jpeg;base64,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)"
      ]
    },
    {
      "cell_type": "markdown",
      "metadata": {
        "id": "9Fs-keJOe_ij"
      },
      "source": [
        "Example: Python IF ELIF ELSE Statement"
      ]
    },
    {
      "cell_type": "code",
      "metadata": {
        "colab": {
          "base_uri": "https://localhost:8080/"
        },
        "id": "XX5PfHSIe-1r",
        "outputId": "c5f608d9-cace-4e89-c274-35cb0ae42b33"
      },
      "source": [
        "#Program disusun untuk mengecek apakah angka merupakan bilangan positif, negatif atau nol\n",
        "#dan menampilkan tulisan yang sesuai\n",
        "\n",
        "angka = 3.4\n",
        "\n",
        "if angka > 0:\n",
        "  print(\"Bilangan Positif\")\n",
        "elif num == 0:\n",
        "  print(\"Nol\")\n",
        "else:\n",
        "  print(\"Bilangan Negatif\")"
      ],
      "execution_count": null,
      "outputs": [
        {
          "output_type": "stream",
          "name": "stdout",
          "text": [
            "Bilangan Positif\n"
          ]
        }
      ]
    },
    {
      "cell_type": "code",
      "metadata": {
        "colab": {
          "base_uri": "https://localhost:8080/"
        },
        "id": "rTStG8GTfe4Z",
        "outputId": "69f99dc6-56d7-459e-a40a-da7bb3052b48"
      },
      "source": [
        "#Statement if\n",
        "x = 4\n",
        "if x % 2 == 0: #jika x dibagi 2 sisanya samadengan 0\n",
        "  print(\"x habis dibagi dua\")\n",
        "\n",
        "#Statement if...elif...else\n",
        "x = 7\n",
        "if x % 2 == 0: #jika x dibagi 2 sisanya samadengan 0\n",
        "  print(\"x habis dibagi dua\")\n",
        "elif x % 3 == 0: #jika x dibagi 3 sisanya samadengan 0\n",
        "  print(\"x habis dibagi tiga\")\n",
        "elif x % 5 == 0: #jika x dibagi 5 sisanya samadengan 0\n",
        "  print(\"x habis dibagi lima\")\n",
        "else:\n",
        "  print(\"x tidak habis dibagi dua, tiga ataupun lima\")"
      ],
      "execution_count": null,
      "outputs": [
        {
          "output_type": "stream",
          "name": "stdout",
          "text": [
            "x habis dibagi dua\n",
            "x tidak habis dibagi dua, tiga ataupun lima\n"
          ]
        }
      ]
    },
    {
      "cell_type": "markdown",
      "metadata": {
        "id": "qG2ex0wwg1ru"
      },
      "source": [
        "## **Python Nested IF Statements**"
      ]
    },
    {
      "cell_type": "markdown",
      "metadata": {
        "id": "f25hVN5Tg7jr"
      },
      "source": [
        "Example: Python NESTED IF Statement"
      ]
    },
    {
      "cell_type": "code",
      "metadata": {
        "colab": {
          "base_uri": "https://localhost:8080/"
        },
        "id": "vFleTlzZg7Ie",
        "outputId": "d233f366-7c46-4642-83fa-1f1999bb2e81"
      },
      "source": [
        "#Program disusun untuk mengecek apakah angka merupakan bilangan positif, negatif atau nol\n",
        "#dan menampilkan tulisan yang sesuai\n",
        "\n",
        "angka = float(input(\"Masukkan angka: \"))\n",
        "if angka >= 0:\n",
        "  if angka == 0:\n",
        "    print(\"Nol\")\n",
        "  else:\n",
        "    print(\"Bilangan Positif\")\n",
        "else:\n",
        "  print(\"Bilangan Negatif\")"
      ],
      "execution_count": null,
      "outputs": [
        {
          "output_type": "stream",
          "name": "stdout",
          "text": [
            "Masukkan angka: 4\n",
            "Bilangan Positif\n"
          ]
        }
      ]
    },
    {
      "cell_type": "markdown",
      "metadata": {
        "id": "w98zwi-5hpHN"
      },
      "source": [
        "## **Latihan**"
      ]
    },
    {
      "cell_type": "markdown",
      "metadata": {
        "id": "lU1hPJMthruV"
      },
      "source": [
        "Buatlah sebuah fungsi \"Mahal_Diskon\" dengan ketentuan:\n",
        "\n",
        "\n",
        "*   Input berupa data harga produk dengan tipe data numerik Tunggal\n",
        "*   Kategori Input adalah \"Murah\" dan \"Mahal\", kemudian diskon ada 3 kategori \"10%\", \"20%\", dan \"40%\".\n",
        "*   Output Pertama sebuah teks/string yang menyatakan \"Mahal\" atau \"Murah\" dan keterangan \"Kamu dapat diskon...\"\n",
        "*   Output kedua adalah harga yang perlu dibayarkan\n",
        "\n"
      ]
    },
    {
      "cell_type": "code",
      "metadata": {
        "id": "Dd9ns-UOjkox",
        "colab": {
          "base_uri": "https://localhost:8080/"
        },
        "outputId": "9f02e6b5-6b46-4dc8-ef99-fff6c83cd989"
      },
      "source": [
        "#input harga produk\n",
        "harga = int(input(\"Harga produk sebelum diskon Rp\"))\n",
        "\n",
        "#menggunakan statement if...elif...else\n",
        "if harga >= 1000000:\n",
        "  print(\"Mahal, Kamu mendapat diskon 40%\")\n",
        "  bayar = (60/100)*harga\n",
        "elif harga >= 600000:\n",
        "  print(\"Mahal, Kamu mendapat diskon 20%\")\n",
        "  bayar = (80/100)*harga\n",
        "else:\n",
        "  print(\"Murah, Kamu mendapat diskon 10%\")\n",
        "  bayar = (90/100)*harga\n",
        "print(\"Total yang harus dibayar Rp\",bayar)"
      ],
      "execution_count": 13,
      "outputs": [
        {
          "output_type": "stream",
          "name": "stdout",
          "text": [
            "Harga produk sebelum diskon Rp800000\n",
            "Mahal, Kamu mendapat diskon 20%\n",
            "Total yang harus dibayar Rp 640000.0\n"
          ]
        }
      ]
    }
  ]
}