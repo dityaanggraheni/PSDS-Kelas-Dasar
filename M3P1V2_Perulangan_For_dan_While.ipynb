{
  "nbformat": 4,
  "nbformat_minor": 0,
  "metadata": {
    "colab": {
      "name": "M3P1V2_Perulangan_For_dan_While.ipynb",
      "provenance": [],
      "collapsed_sections": []
    },
    "kernelspec": {
      "name": "python3",
      "display_name": "Python 3"
    },
    "language_info": {
      "name": "python"
    }
  },
  "cells": [
    {
      "cell_type": "markdown",
      "metadata": {
        "id": "jzHPO2tQzDwE"
      },
      "source": [
        "# **Looping/Perulangan**\n",
        "\n",
        "Python menyediakan dua statement untuk melakukan proses perulangan yaitu for dan while. Diantara kedua statement ini, secara umum for lebih banyak digunakan daripada while."
      ]
    },
    {
      "cell_type": "markdown",
      "metadata": {
        "id": "jknPzSsxzbAt"
      },
      "source": [
        "## **For Loop**\n",
        "\n",
        "Perulangan `for` digunakan untuk melakukan iterasi di dalam `sequence` seperti `list`, `tuple`, `string`, dan `array` atau objek yang dapat diiterasi lainnya.\n",
        "\n",
        "**For Loop Syntax**\n",
        "\n",
        "\n",
        "\n",
        "```\n",
        "for val in sequence:\n",
        "    loop body\n",
        "```\n",
        "\n",
        "\n",
        "**For Loop Flowchart**\n",
        "\n",
        "![for.jpg](data:image/jpeg;base64,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)"
      ]
    },
    {
      "cell_type": "markdown",
      "metadata": {
        "id": "3u8mldST1yww"
      },
      "source": [
        "**Example: Python for Loop**"
      ]
    },
    {
      "cell_type": "code",
      "metadata": {
        "colab": {
          "base_uri": "https://localhost:8080/"
        },
        "id": "mLcBO04uy0Aw",
        "outputId": "2182dba1-4a69-40e1-d95b-af0738bbe842"
      },
      "source": [
        "#Program untuk menghitung jumlah semua angka dalam sebuah list\n",
        "L1 = [2, 4, 5, 7, 9]\n",
        "jumlah = 0\n",
        "\n",
        "#Iterasi di dalam list\n",
        "for i in L1:\n",
        "  jumlah = jumlah + i\n",
        "print(jumlah)"
      ],
      "execution_count": null,
      "outputs": [
        {
          "output_type": "stream",
          "name": "stdout",
          "text": [
            "27\n"
          ]
        }
      ]
    },
    {
      "cell_type": "markdown",
      "metadata": {
        "id": "5TtuE0MQ2XC2"
      },
      "source": [
        "### **The range() function**"
      ]
    },
    {
      "cell_type": "code",
      "metadata": {
        "colab": {
          "base_uri": "https://localhost:8080/"
        },
        "id": "fAqhOIJH2Gk1",
        "outputId": "3915353f-b2a2-4ec9-dc91-71ea99d79915"
      },
      "source": [
        "# Program untuk melakukan iterasi di dalam list melalui indeks\n",
        "minuman = [\"teh\", \"boba\", \"kopi\", \"susu\"]\n",
        "p = len(minuman)\n",
        "\n",
        "#iterasi di dalam list melalui indeks\n",
        "for i in range(p):\n",
        "  print(minuman[i])"
      ],
      "execution_count": null,
      "outputs": [
        {
          "output_type": "stream",
          "name": "stdout",
          "text": [
            "teh\n",
            "boba\n",
            "kopi\n",
            "susu\n"
          ]
        }
      ]
    },
    {
      "cell_type": "markdown",
      "metadata": {
        "id": "0VDednNM278_"
      },
      "source": [
        "### **for loop with else**"
      ]
    },
    {
      "cell_type": "code",
      "metadata": {
        "colab": {
          "base_uri": "https://localhost:8080/"
        },
        "id": "PoSSLUJf3C29",
        "outputId": "c57558a6-7224-436d-b83e-f9896398455c"
      },
      "source": [
        "#Contoh for loop menggunakan else\n",
        "for i in range(p):\n",
        "  print(minuman[i])\n",
        "else:\n",
        "  print(\"Elemen sudah habis\")"
      ],
      "execution_count": null,
      "outputs": [
        {
          "output_type": "stream",
          "name": "stdout",
          "text": [
            "teh\n",
            "boba\n",
            "kopi\n",
            "susu\n",
            "Elemen sudah habis\n"
          ]
        }
      ]
    },
    {
      "cell_type": "markdown",
      "metadata": {
        "id": "YZ3Veu0O3SzL"
      },
      "source": [
        "### **Latihan 1**"
      ]
    },
    {
      "cell_type": "markdown",
      "metadata": {
        "id": "OCkUDZfQ3Vf6"
      },
      "source": [
        "Diberikan `list_tagihan`. Kamu diminta untuk menghitung jumlah seluruh tagihan! Gunakan looping `for` untuk menyelesaikan tugas ini. Simpan hasilnya pada variabel `total_tagihan`!\n",
        "\n",
        "\n",
        "```\n",
        "list_tagihan = [50000, 75000, -150000, 125000, 300000, -50000, 200000]\n",
        "```\n",
        "\n"
      ]
    },
    {
      "cell_type": "code",
      "metadata": {
        "colab": {
          "base_uri": "https://localhost:8080/"
        },
        "id": "LMHFFJ8m4pue",
        "outputId": "0655b259-95d6-4977-eb31-62f2cbf8e64d"
      },
      "source": [
        "# List Tagihan\n",
        "list_tagihan = [50000, 75000, -150000, 125000, 300000, -50000, 200000]\n",
        "total_tagihan = 0\n",
        "\n",
        "# Menggunakan perulangan for\n",
        "for tagihan in list_tagihan: # untuk setiap tagihan dalam list_tagihan\n",
        "    total_tagihan = total_tagihan + tagihan # tambahkan tagihan ke total_tagihan\n",
        "print(total_tagihan)"
      ],
      "execution_count": 8,
      "outputs": [
        {
          "output_type": "stream",
          "name": "stdout",
          "text": [
            "550000\n"
          ]
        }
      ]
    },
    {
      "cell_type": "markdown",
      "metadata": {
        "id": "x47FZo4f3991"
      },
      "source": [
        "## **While Loop**\n",
        "\n",
        "Wgile loop pada Python digunakan untuk melakukan iterasi pada blok kode selama nilai dari `test_expression` adalah `true`.\n",
        "\n",
        "**Syntax of while Loop in Python**\n",
        "\n",
        "\n",
        "\n",
        "```\n",
        "while test_expression:\n",
        "    Body of while\n",
        "```\n",
        "\n",
        "\n",
        "**While Loop Flowchart**\n",
        "\n",
        "![while.jpg](data:image/jpeg;base64,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)\n"
      ]
    },
    {
      "cell_type": "markdown",
      "metadata": {
        "id": "NWG01eEp5SRK"
      },
      "source": [
        "**Example: Python while Loop**"
      ]
    },
    {
      "cell_type": "code",
      "metadata": {
        "colab": {
          "base_uri": "https://localhost:8080/"
        },
        "id": "U8-dw5dA5MZW",
        "outputId": "c6e98040-d9b7-4c4b-d50c-cb0a874b9c8e"
      },
      "source": [
        "#Program untuk menjumlahkan semua\n",
        "#bilangan asli hingga suku ke-n\n",
        "#jum = 1+2+3+...+n\n",
        "\n",
        "n = 10\n",
        "jumlah = 0\n",
        "i = 1\n",
        "\n",
        "while i<= n:\n",
        "  jumlah = jumlah + i\n",
        "  i = i + 1\n",
        "\n",
        "print(jumlah)"
      ],
      "execution_count": null,
      "outputs": [
        {
          "output_type": "stream",
          "name": "stdout",
          "text": [
            "55\n"
          ]
        }
      ]
    },
    {
      "cell_type": "markdown",
      "metadata": {
        "id": "OCEn9oav5wi2"
      },
      "source": [
        "### **While loop with else**\n",
        "\n",
        "Sama dengan `for` loop kita juga dapat mengkombinasikan `while` loop dengan blok `else`.\n",
        "\n",
        "Bagian `else` akan dieksekusi jika nilai pada `test expression` pada `while loop` bernilai `False`. Perhatikan contoh berikut:"
      ]
    },
    {
      "cell_type": "code",
      "metadata": {
        "colab": {
          "base_uri": "https://localhost:8080/"
        },
        "id": "DrM59gk66O5h",
        "outputId": "a7b87ff1-1f8c-4bbf-a678-c94e7cdede4a"
      },
      "source": [
        "jum = 0\n",
        "i = 1\n",
        "while i <= n:\n",
        "  jum = jum + i\n",
        "  i = i + 1\n",
        "else:\n",
        "  print(jum) #dieksekusi diluar looping"
      ],
      "execution_count": null,
      "outputs": [
        {
          "output_type": "stream",
          "name": "stdout",
          "text": [
            "55\n"
          ]
        }
      ]
    },
    {
      "cell_type": "markdown",
      "metadata": {
        "id": "177nCU5b6y7U"
      },
      "source": [
        "### **Latihan 2**\n",
        "\n",
        "Diberikan list `tagihan`, hitunglah `total_tagihan` menggunakan `while loop`.\n",
        "\n",
        "\n",
        "\n",
        "```\n",
        "tagihan = [50000, 75000, 125000, 300000, 200000]\n",
        "```\n",
        "\n"
      ]
    },
    {
      "cell_type": "code",
      "metadata": {
        "colab": {
          "base_uri": "https://localhost:8080/"
        },
        "id": "t4lZxcMw3zvs",
        "outputId": "d40b9ede-b06a-428c-b3bf-4b47953df662"
      },
      "source": [
        "# List Tagihan\n",
        "tagihan = [50000, 75000, 125000, 300000, 200000]\n",
        "\n",
        "# Menggunakan while loop\n",
        "i = 0 # sebuah variabel untuk mengakses setiap elemen tagihan satu per satu\n",
        "jumlah_tagihan = len(tagihan) # panjang (jumlah elemen dalam) list tagihan\n",
        "total_tagihan = 0 # mula-mula, set total_tagihan ke 0\n",
        "while i < jumlah_tagihan : # selama nilai i kurang dari jumlah_tagihan\n",
        "    total_tagihan += tagihan[i] # tambahkan tagihan[i] ke total_tagihan\n",
        "    i += 1 # tambahkan nilai i dengan 1 untuk memproses tagihan selanjutnya.\n",
        "print(total_tagihan)"
      ],
      "execution_count": 6,
      "outputs": [
        {
          "output_type": "stream",
          "name": "stdout",
          "text": [
            "750000\n"
          ]
        }
      ]
    }
  ]
}