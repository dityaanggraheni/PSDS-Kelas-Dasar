{
  "nbformat": 4,
  "nbformat_minor": 0,
  "metadata": {
    "colab": {
      "name": "M1P2V2_Variabel_dan_Tipe_Data.ipynb",
      "provenance": [],
      "collapsed_sections": []
    },
    "kernelspec": {
      "name": "python3",
      "display_name": "Python 3"
    },
    "language_info": {
      "name": "python"
    }
  },
  "cells": [
    {
      "cell_type": "markdown",
      "metadata": {
        "id": "K63m7xGhKvRz"
      },
      "source": [
        "# **Variabel & Tipe Data**"
      ]
    },
    {
      "cell_type": "markdown",
      "metadata": {
        "id": "Tn4D_hyiK9_k"
      },
      "source": [
        "## **Variabel**"
      ]
    },
    {
      "cell_type": "markdown",
      "metadata": {
        "id": "HaBd85LKLY0a"
      },
      "source": [
        "**Variables:** Lokasi penyimpanan yang dapat digunakan untuk menampung sebuah data atau informasi.\n",
        "\n",
        "Syarat-syarat penamaan variabel\n",
        "\n",
        "\n",
        "1.   Karakter-karakter yang digunakan untuk penamaan variabel adalah alphabet, angka dan underscore.\n",
        "2.   Karakter pertama variabel harus berupa huruf atau garis bawah/underscore, dan tidak bisa berupa angka.\n",
        "3.   Nama sebuah variabel tidak bisa menggunakan keyword atau reserved words dari bahasa python seperti for, if, dan lainnya.\n",
        "4.   Karakter pada nama variabel bersifat sensitif (case-sensitif)/\n",
        "\n"
      ]
    },
    {
      "cell_type": "code",
      "metadata": {
        "id": "x80DNEWMMkt3"
      },
      "source": [
        "# Membuat variabel\n",
        "kalimat = 'ini adalah variabel'\n",
        "bilangan1 = 4\n",
        "bilangan2 = 2.5\n",
        "bilangan3 = True\n",
        "bilangan4 = 1j + 4"
      ],
      "execution_count": null,
      "outputs": []
    },
    {
      "cell_type": "code",
      "metadata": {
        "colab": {
          "base_uri": "https://localhost:8080/"
        },
        "id": "tcsWVAiPMyEn",
        "outputId": "048c7f8f-b077-4e46-ba65-d34493b4a439"
      },
      "source": [
        "# Menampilkan variabel\n",
        "print(kalimat)\n",
        "print(bilangan1)\n",
        "print(bilangan2)"
      ],
      "execution_count": null,
      "outputs": [
        {
          "output_type": "stream",
          "name": "stdout",
          "text": [
            "ini adalah variabel\n",
            "4\n",
            "2.5\n"
          ]
        }
      ]
    },
    {
      "cell_type": "markdown",
      "metadata": {
        "id": "W_9cAnqLM-bp"
      },
      "source": [
        "**Latihan 1**"
      ]
    },
    {
      "cell_type": "code",
      "metadata": {
        "colab": {
          "base_uri": "https://localhost:8080/"
        },
        "id": "Bs6B2GjZM9cU",
        "outputId": "75418d7d-9f3a-4409-d5b7-425e453e8574"
      },
      "source": [
        "# Buatlah 5 variabel kalian sendiri dengan 5 macam tipe data\n",
        "# lalu tampilkan variabel menggunakan fungsi print\n",
        "\n",
        "nama = 'Ditya Anggraheni Rahayu'\n",
        "nim = 1900015067\n",
        "a = 56.5\n",
        "b = True\n",
        "c = 1 + 2j\n",
        "\n",
        "print(nama)\n",
        "print(nim)\n",
        "print(a)\n",
        "print(b)\n",
        "print(c)"
      ],
      "execution_count": null,
      "outputs": [
        {
          "output_type": "stream",
          "name": "stdout",
          "text": [
            "Ditya Anggraheni Rahayu\n",
            "1900015067\n",
            "56.5\n",
            "True\n",
            "(1+2j)\n"
          ]
        }
      ]
    },
    {
      "cell_type": "markdown",
      "metadata": {
        "id": "VwZZLh60LC-T"
      },
      "source": [
        "## **Tipe Data**"
      ]
    },
    {
      "cell_type": "markdown",
      "metadata": {
        "id": "DMwoETGwNOMj"
      },
      "source": [
        "5 tipe data yaitu\n",
        "\n",
        "\n",
        "1.   Integer atau bilangan bulat\n",
        "2.   Float atau bilangan desimal\n",
        "3.   String atau kalimat\n",
        "4.   Boolean yang terdiri dari True dan False\n",
        "5.   Complex yang merupakan bilangan kompleks\n",
        "\n"
      ]
    },
    {
      "cell_type": "code",
      "metadata": {
        "colab": {
          "base_uri": "https://localhost:8080/"
        },
        "id": "DPrvmLTtNqMi",
        "outputId": "e2da2bba-f4c3-44dc-b56b-0e930a79c1cb"
      },
      "source": [
        "# Menampilkan tipe data\n",
        "print(type(kalimat))\n",
        "print(type(bilangan1))\n",
        "print(type(bilangan2))\n",
        "print(type(bilangan3))\n",
        "print(type(bilangan4))"
      ],
      "execution_count": null,
      "outputs": [
        {
          "output_type": "stream",
          "name": "stdout",
          "text": [
            "<class 'str'>\n",
            "<class 'int'>\n",
            "<class 'float'>\n",
            "<class 'bool'>\n",
            "<class 'complex'>\n"
          ]
        }
      ]
    },
    {
      "cell_type": "markdown",
      "metadata": {
        "id": "3e__cV69N4Vz"
      },
      "source": [
        "**Latihan 2**"
      ]
    },
    {
      "cell_type": "code",
      "metadata": {
        "colab": {
          "base_uri": "https://localhost:8080/"
        },
        "id": "RRKWgutEN7I7",
        "outputId": "4cd46c2e-9866-431c-952e-f2d303e15baa"
      },
      "source": [
        "# cek tipe data variabel yang telah kalian buat pada latihan 1\n",
        "print(type(nama))\n",
        "print(type(nim))\n",
        "print(type(a))\n",
        "print(type(b))\n",
        "print(type(c))"
      ],
      "execution_count": null,
      "outputs": [
        {
          "output_type": "stream",
          "name": "stdout",
          "text": [
            "<class 'str'>\n",
            "<class 'int'>\n",
            "<class 'float'>\n",
            "<class 'bool'>\n",
            "<class 'complex'>\n"
          ]
        }
      ]
    },
    {
      "cell_type": "markdown",
      "metadata": {
        "id": "FBQcP0UmLQc9"
      },
      "source": [
        "## **Konversi Tipe Data**"
      ]
    },
    {
      "cell_type": "markdown",
      "metadata": {
        "id": "UC_lU3lGOFPb"
      },
      "source": [
        "Syntax Konversi tipe data\n",
        "\n",
        "\n",
        "1.   Integer = int()\n",
        "2.   Float = float()\n",
        "3.   String = str()\n",
        "4.   Boolean = bool()\n",
        "5.   Complex = complex()\n",
        "\n"
      ]
    },
    {
      "cell_type": "code",
      "metadata": {
        "colab": {
          "base_uri": "https://localhost:8080/"
        },
        "id": "6xPvVOnUKohk",
        "outputId": "4d6b555a-0af6-425b-9d65-e9af36e0aa51"
      },
      "source": [
        "# Konversi tipe data integer\n",
        "print(int(bilangan2))\n",
        "print(int(bilangan3))"
      ],
      "execution_count": null,
      "outputs": [
        {
          "output_type": "stream",
          "name": "stdout",
          "text": [
            "2\n",
            "1\n"
          ]
        }
      ]
    },
    {
      "cell_type": "code",
      "metadata": {
        "colab": {
          "base_uri": "https://localhost:8080/"
        },
        "id": "asMR4aupVCLg",
        "outputId": "691b8988-363b-456a-ffdb-a648edd4b758"
      },
      "source": [
        "# Konversi tipe data float\n",
        "print(float(bilangan1))\n",
        "print(float(bilangan3))"
      ],
      "execution_count": null,
      "outputs": [
        {
          "output_type": "stream",
          "name": "stdout",
          "text": [
            "4.0\n",
            "1.0\n"
          ]
        }
      ]
    },
    {
      "cell_type": "code",
      "metadata": {
        "colab": {
          "base_uri": "https://localhost:8080/"
        },
        "id": "OZ9RxeNROoQ9",
        "outputId": "7fbf4592-7cd0-441e-bfb1-3f9f37eac2da"
      },
      "source": [
        "# Konversi tipe data string\n",
        "print(str(bilangan1))\n",
        "print(str(bilangan2))\n",
        "print(str(bilangan3))"
      ],
      "execution_count": null,
      "outputs": [
        {
          "output_type": "stream",
          "name": "stdout",
          "text": [
            "4\n",
            "2.5\n",
            "True\n"
          ]
        }
      ]
    },
    {
      "cell_type": "code",
      "metadata": {
        "colab": {
          "base_uri": "https://localhost:8080/"
        },
        "id": "GlrAf87jOzjs",
        "outputId": "c71fa389-fe49-4be7-ecff-d98bc895b739"
      },
      "source": [
        "# Konversi tipe data bool\n",
        "print(bool(bilangan1))\n",
        "print(bool(bilangan2))"
      ],
      "execution_count": null,
      "outputs": [
        {
          "output_type": "stream",
          "name": "stdout",
          "text": [
            "True\n",
            "True\n"
          ]
        }
      ]
    },
    {
      "cell_type": "code",
      "metadata": {
        "colab": {
          "base_uri": "https://localhost:8080/"
        },
        "id": "tE28dTv7O-Kb",
        "outputId": "8013e2cf-449b-4469-ab21-fba35bc2bedd"
      },
      "source": [
        "# Konversi tipe data complex\n",
        "print(complex(bilangan1))\n",
        "print(complex(bilangan2))\n",
        "print(complex(bilangan3))"
      ],
      "execution_count": null,
      "outputs": [
        {
          "output_type": "stream",
          "name": "stdout",
          "text": [
            "(4+0j)\n",
            "(2.5+0j)\n",
            "(1+0j)\n"
          ]
        }
      ]
    },
    {
      "cell_type": "markdown",
      "metadata": {
        "id": "9X08WvC9PLsC"
      },
      "source": [
        "**Latihan 3**"
      ]
    },
    {
      "cell_type": "code",
      "metadata": {
        "colab": {
          "base_uri": "https://localhost:8080/"
        },
        "id": "rrOQsh2EPNoz",
        "outputId": "efce7ad3-d40a-4b55-aa4f-3036810fadca"
      },
      "source": [
        "# Konversi tipe data variabel yang telah kalian buat\n",
        "# menjadi berbagai macam tipe data\n",
        "\n",
        "print('Konversi tipe data integer')\n",
        "print(int(a))\n",
        "print(int(b))\n",
        "\n",
        "print('Konversi tipe data float')\n",
        "print(float(nim))\n",
        "print(float(b))\n",
        "\n",
        "print('Konversi tipe data string')\n",
        "print(str(nim))\n",
        "print(str(a))\n",
        "print(str(b))\n",
        "print(str(c))\n",
        "\n",
        "print('Konversi tipe data boolean')\n",
        "print(bool(nama))\n",
        "print(bool(nim))\n",
        "print(bool(a))\n",
        "print(bool(c))\n",
        "\n",
        "print('Konversi tipe data complex')\n",
        "print(complex(nim))\n",
        "print(complex(a))\n",
        "print(complex(b))"
      ],
      "execution_count": null,
      "outputs": [
        {
          "output_type": "stream",
          "name": "stdout",
          "text": [
            "Konversi tipe data integer\n",
            "56\n",
            "1\n",
            "Konversi tipe data float\n",
            "1900015067.0\n",
            "56.5\n",
            "1.0\n",
            "Konversi tipe data string\n",
            "1900015067\n",
            "56.5\n",
            "True\n",
            "(1+2j)\n",
            "Konversi tipe data boolean\n",
            "True\n",
            "True\n",
            "True\n",
            "True\n",
            "True\n",
            "Konversi tipe data complex\n",
            "(1900015067+0j)\n",
            "(56.5+0j)\n",
            "(1+0j)\n",
            "(1+2j)\n"
          ]
        }
      ]
    }
  ]
}