{
  "nbformat": 4,
  "nbformat_minor": 0,
  "metadata": {
    "colab": {
      "name": "M3P2V1_Functions.ipynb",
      "provenance": [],
      "collapsed_sections": []
    },
    "kernelspec": {
      "name": "python3",
      "display_name": "Python 3"
    },
    "language_info": {
      "name": "python"
    }
  },
  "cells": [
    {
      "cell_type": "markdown",
      "metadata": {
        "id": "wWWBV-W5qMxl"
      },
      "source": [
        "# **Function**"
      ]
    },
    {
      "cell_type": "markdown",
      "metadata": {
        "id": "tcFX2bD8qRfw"
      },
      "source": [
        "Function (fungsi) adalah sebuah blok statement yang hanya akan dijalankan saat ia dipanggil.\n",
        "\n",
        "Fungsi len() untuk mengukur jumlah elemen dalam sebuah list dan fungsi print() untuk menampilkan pesan pada layar konsol merupakan contoh dari bentuk fungsi yang telah disediakan oleh bahasa pemrograman Python atau dengan kata lain built-in functions.\n",
        "\n",
        "Selain fungsi yang telah disediakan oleh Python, Python mengizinkan untuk mendeklarasikan fungsi dalam kode yang dituliskan yang dikenal dengan user difined function.\n",
        "\n",
        "\n",
        "\n",
        "```\n",
        "def nama_fungsi(argument):\n",
        "    statement_1\n",
        "    _\n",
        "    statement_n\n",
        "    return returned_value\n",
        "```\n",
        "\n",
        "\n",
        "\n",
        "*   **nama_fungsi** adalah nama untuk fungsi yang Anda definisikan, memiliki aturan seperti penamaan variabel\n",
        "*   **argument** adalah variabel masukan ke fungsi, bisa tanpa variabel, satu variabel atau lebih\n",
        "*   **statement_1 _statement_n** adalah algoritma yang telah Anda transfer dalam bahasa Python yang merupakan inti dari fungsi yang Anda definisikan. Seluruh statement adalah menjorok (indent) ke dalam seperti yang pernah Anda pelajari pada coditioning dan looping\n",
        "*   **return_value** adalah variabel output dari fungsi Anda, bisa tanpa variabel, satu variabel atau lebih.\n",
        "\n"
      ]
    },
    {
      "cell_type": "markdown",
      "metadata": {
        "id": "O-jj-UXGtBQF"
      },
      "source": [
        "## **Argumen dan Parameter**"
      ]
    },
    {
      "cell_type": "markdown",
      "metadata": {
        "id": "aU2XcoaMt_XU"
      },
      "source": [
        "\n",
        "\n",
        "*   **Parameter** adalah variabel yang digunakan dalam deklarasi fungsi\n",
        "*   **Argumen** adalah nilai yang diberikan saat pemanggilan fungsi\n",
        "\n"
      ]
    },
    {
      "cell_type": "code",
      "metadata": {
        "colab": {
          "base_uri": "https://localhost:8080/"
        },
        "id": "B7GJ-5qauOQ3",
        "outputId": "cdc38d0c-ed97-4a31-cbb8-4fa813828923"
      },
      "source": [
        "def print_nama(nama): #nama adalah parameter\n",
        "  print(nama)\n",
        "print_nama('Budi') #Budi adalah argumen"
      ],
      "execution_count": null,
      "outputs": [
        {
          "output_type": "stream",
          "name": "stdout",
          "text": [
            "Budi\n"
          ]
        }
      ]
    },
    {
      "cell_type": "markdown",
      "metadata": {
        "id": "y7geR5rzt5fX"
      },
      "source": [
        "### **Argumen posisi dan kata kunci**"
      ]
    },
    {
      "cell_type": "markdown",
      "metadata": {
        "id": "Tz69eup1tVZA"
      },
      "source": [
        "Kita bisa menyatakan argumen sebagai argumen posisi atau kata kunci. Beberapa manfaat argumen kata kunci dapat berupa:\n",
        "\n",
        "\n",
        "*   Kita dapat menyebut argumen dengan nama mereka untuk memperjelas apa yang mereka wakili\n",
        "*   Kita dapat mengatur ulang argumen dengan cara yang membuatnya paling mudah dibaca\n",
        "\n"
      ]
    },
    {
      "cell_type": "code",
      "metadata": {
        "colab": {
          "base_uri": "https://localhost:8080/"
        },
        "id": "HLNKpiAfpCDU",
        "outputId": "736962d3-f1d7-4551-cf10-57c25fc4e463"
      },
      "source": [
        "def angka(a, b, c):\n",
        "  print(a, b, c)\n",
        "\n",
        "#Argumen posisi\n",
        "#Argumen berdasarkan posisinya\n",
        "angka(1, 2, 3)\n",
        "\n",
        "#Argumen berdasarkan kata kuncinya\n",
        "angka(a=1, b=2, c=3)\n",
        "angka(c=3, b=2, a=1)\n",
        "#Catatan: jika sudah diberi kunci maka urutan tidak menjadi penting\n",
        "\n",
        "#Campuran antara argumen posisi dan argumen kata kunci\n",
        "angka(1, b=2, c=3)\n",
        "\n",
        "#Ini tidak diijinkan:\n",
        "#foo(1, b=2, 3) #argumen posisional setelah argumen kunci\n",
        "#foo(1, b=2, a=3) #terdapat dua nilai untuk argumen kunci 'a'"
      ],
      "execution_count": null,
      "outputs": [
        {
          "output_type": "stream",
          "name": "stdout",
          "text": [
            "1 2 3\n",
            "1 2 3\n",
            "1 2 3\n",
            "1 2 3\n"
          ]
        }
      ]
    },
    {
      "cell_type": "markdown",
      "metadata": {
        "id": "34BR7d-HvmVR"
      },
      "source": [
        "### **Argumen Default**"
      ]
    },
    {
      "cell_type": "markdown",
      "metadata": {
        "id": "7U1n1EXqvrDC"
      },
      "source": [
        "Fungsi dapat memiliki argumen default dengan nilai yang telah ditentukan sebelumnya. Argumen ini dapat ditinggalkan dan nilai default kemudian diteruskan ke fungsi, atau argumen dapat berubah dengan nilai yang berbeda. Perhatikan bahwa argumen default harus ditentukan sebagai parameter terakhir dalam suatu fungsi."
      ]
    },
    {
      "cell_type": "code",
      "metadata": {
        "colab": {
          "base_uri": "https://localhost:8080/"
        },
        "id": "g0IxLEIdwN1R",
        "outputId": "140d961f-4311-416a-c593-fc8760d20aa8"
      },
      "source": [
        "#Argumen default\n",
        "def angka2(a, b, c, d=4):\n",
        "  print(a, b, c, d)\n",
        "\n",
        "angka2(1, 2, 3, 4)\n",
        "angka2(1, b=2, c=3, d=100)\n",
        "\n",
        "#Argumen default harus diletakkan terakhir"
      ],
      "execution_count": null,
      "outputs": [
        {
          "output_type": "stream",
          "name": "stdout",
          "text": [
            "1 2 3 4\n",
            "1 2 3 100\n"
          ]
        }
      ]
    },
    {
      "cell_type": "markdown",
      "metadata": {
        "id": "eq067tsowq4f"
      },
      "source": [
        "## **Praktikum Membuat Fungsi**"
      ]
    },
    {
      "cell_type": "code",
      "metadata": {
        "colab": {
          "base_uri": "https://localhost:8080/"
        },
        "id": "0tu9T09uwyTE",
        "outputId": "8d7714da-423f-46b3-eb47-899a7ec56f55"
      },
      "source": [
        "x = 1\n",
        "y = 2\n",
        "x*y"
      ],
      "execution_count": null,
      "outputs": [
        {
          "output_type": "execute_result",
          "data": {
            "text/plain": [
              "2"
            ]
          },
          "metadata": {},
          "execution_count": 4
        }
      ]
    },
    {
      "cell_type": "code",
      "metadata": {
        "colab": {
          "base_uri": "https://localhost:8080/"
        },
        "id": "1AwxsYmbw330",
        "outputId": "3cfbbc91-13a2-4d28-aa1b-dd587bf4142a"
      },
      "source": [
        "def penjumlahan(x,y): #input\n",
        "  a = x+y             #proses\n",
        "  return a            #output\n",
        "penjumlahan(1,2)      #menggunakan fungsi"
      ],
      "execution_count": null,
      "outputs": [
        {
          "output_type": "execute_result",
          "data": {
            "text/plain": [
              "3"
            ]
          },
          "metadata": {},
          "execution_count": 5
        }
      ]
    },
    {
      "cell_type": "markdown",
      "metadata": {
        "id": "DQUYFMklwwm9"
      },
      "source": [
        "Penjumlahan yang memungkinkan untuk tiga bilangan"
      ]
    },
    {
      "cell_type": "code",
      "metadata": {
        "colab": {
          "base_uri": "https://localhost:8080/"
        },
        "id": "b669-rSxxRUz",
        "outputId": "9f4c4546-ddf2-4424-cdd9-091aba43b36b"
      },
      "source": [
        "def penjumlahan(x,y,z=None):\n",
        "  if(z==None):\n",
        "    return x+y\n",
        "  else:\n",
        "    return x+y+z\n",
        "\n",
        "print(penjumlahan(1,2))\n",
        "print(penjumlahan(1,2,3))"
      ],
      "execution_count": null,
      "outputs": [
        {
          "output_type": "stream",
          "name": "stdout",
          "text": [
            "3\n",
            "6\n"
          ]
        }
      ]
    },
    {
      "cell_type": "markdown",
      "metadata": {
        "id": "XbzlUbaexqlA"
      },
      "source": [
        "Menyimpan hasil fungsi dalam variabel"
      ]
    },
    {
      "cell_type": "code",
      "metadata": {
        "colab": {
          "base_uri": "https://localhost:8080/"
        },
        "id": "S56JUlzlxuuE",
        "outputId": "f327a5e6-b194-4ee4-ee05-b0ac2424b8d0"
      },
      "source": [
        "def penjumlahan(x,y):\n",
        "  return x+y\n",
        "\n",
        "a = penjumlahan\n",
        "a(1,2)"
      ],
      "execution_count": null,
      "outputs": [
        {
          "output_type": "execute_result",
          "data": {
            "text/plain": [
              "3"
            ]
          },
          "metadata": {},
          "execution_count": 8
        }
      ]
    },
    {
      "cell_type": "markdown",
      "metadata": {
        "id": "Lqyhq4c-x7yM"
      },
      "source": [
        "## **Latihan 1**"
      ]
    },
    {
      "cell_type": "markdown",
      "metadata": {
        "id": "YJjrmuoZyAeP"
      },
      "source": [
        "Buatlah function pythagoras dengan input argumennya panjang tinggi dan alas segitiga untuk menghasilkan output nilai panjang sisi miring."
      ]
    },
    {
      "cell_type": "code",
      "metadata": {
        "id": "as76UkgdysDE",
        "colab": {
          "base_uri": "https://localhost:8080/"
        },
        "outputId": "be612644-0bbc-48d5-d719-f353831fd0a8"
      },
      "source": [
        "def sisi_miring(tinggi,alas): #Input\n",
        "  return (tinggi**2+alas**2)**(1/2) #Proses\n",
        "\n",
        "a = sisi_miring\n",
        "a(12,5) #Menggunakan fungsi"
      ],
      "execution_count": 12,
      "outputs": [
        {
          "output_type": "execute_result",
          "data": {
            "text/plain": [
              "13.0"
            ]
          },
          "metadata": {},
          "execution_count": 12
        }
      ]
    },
    {
      "cell_type": "markdown",
      "metadata": {
        "id": "RUa6JwGDySVW"
      },
      "source": [
        "## **Latihan 2**"
      ]
    },
    {
      "cell_type": "markdown",
      "metadata": {
        "id": "AeY_Zx4WyXjn"
      },
      "source": [
        "Buatlah function luas permukaan balok dengan input argumennya panjang,lebar, dan tinggi dari balok untuk menghasilkan output nilai luas permukaan balok tersebut"
      ]
    },
    {
      "cell_type": "code",
      "metadata": {
        "id": "kNusn9Qkyqne",
        "colab": {
          "base_uri": "https://localhost:8080/"
        },
        "outputId": "37fd7603-6f67-434c-ba49-0a85a1eb4c86"
      },
      "source": [
        "def luas_permukaan(panjang,lebar,tinggi): #Input\n",
        "  rumus = 2*(panjang*lebar)+2*(panjang*tinggi)+2*(lebar*tinggi) #Proses\n",
        "  return rumus \n",
        "\n",
        "a = luas_permukaan\n",
        "a(20,10,5) #Menggunakan fungsi"
      ],
      "execution_count": 14,
      "outputs": [
        {
          "output_type": "execute_result",
          "data": {
            "text/plain": [
              "700"
            ]
          },
          "metadata": {},
          "execution_count": 14
        }
      ]
    }
  ]
}