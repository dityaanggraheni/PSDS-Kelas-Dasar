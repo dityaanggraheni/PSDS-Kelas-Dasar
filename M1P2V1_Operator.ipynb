{
  "nbformat": 4,
  "nbformat_minor": 0,
  "metadata": {
    "colab": {
      "name": "M1P2V1_Operator.ipynb",
      "provenance": [],
      "collapsed_sections": []
    },
    "kernelspec": {
      "name": "python3",
      "display_name": "Python 3"
    },
    "language_info": {
      "name": "python"
    }
  },
  "cells": [
    {
      "cell_type": "markdown",
      "metadata": {
        "id": "Jm8m3P2pBHki"
      },
      "source": [
        "# **Operator**"
      ]
    },
    {
      "cell_type": "markdown",
      "metadata": {
        "id": "zDWQ_JIeCDnr"
      },
      "source": [
        "Operator = Simbol-simbol yang dapat digunakan untuk mengubah nilai dari satu variabel dengan melibatkan satu atau lebih variabel dan literal.\n",
        "tipe-tipe operator\n",
        "\n",
        "\n",
        "1.   Operator Aritmatika\n",
        "2.   Operator Assignment\n",
        "3.   Operator Pembanding\n",
        "4.   Operator Logika\n",
        "5.   Operator Membership\n",
        "\n"
      ]
    },
    {
      "cell_type": "markdown",
      "metadata": {
        "id": "fTPicHINDCdL"
      },
      "source": [
        "# **Operator Aritmatika**"
      ]
    },
    {
      "cell_type": "markdown",
      "metadata": {
        "id": "_1RkfdIuDTBq"
      },
      "source": [
        "Operator Aritmatika dingunakan untuk melakukan operasi matematika yang umum\n",
        "\n",
        "macam-macam operator aritmatika:\n",
        "\n",
        "\n",
        "```\n",
        "+ : Penjumlahan\n",
        "- : Pengurangan\n",
        "* : Perkalian\n",
        "/ : Pembagian\n",
        "% : Modulus\n",
        "**: Perpangkatan\n",
        "//: Pembagian dengan hasil pembulatan flooring\n",
        "\n",
        "```\n",
        "\n"
      ]
    },
    {
      "cell_type": "code",
      "metadata": {
        "colab": {
          "base_uri": "https://localhost:8080/"
        },
        "id": "FpKBfpzhEw46",
        "outputId": "401859fc-56aa-4e83-e6b2-1e3f9a8df5e2"
      },
      "source": [
        "# Contoh penggunaan operator aritmatika\n",
        "\n",
        "#Penjumlahan\n",
        "print('Penjumlahan')\n",
        "print(2+2)\n",
        "#Pengurangan\n",
        "print('-'*20)\n",
        "print('Pengurangan')\n",
        "print(2-3)\n",
        "#Perkalian\n",
        "print('-'*20)\n",
        "print('Perkalian')\n",
        "print(2*3)\n",
        "#Pembagian\n",
        "print('-'*20)\n",
        "print('Pembagian')\n",
        "print(2/3)\n",
        "#Modulus\n",
        "print('-'*20)\n",
        "print('Modulus')\n",
        "print(2%3)\n",
        "#Perpangkatan\n",
        "print('-'*20)\n",
        "print('Perpangkatan')\n",
        "print(2**3)\n",
        "#Pembagian Pembulatan Floring\n",
        "print('-'*20)\n",
        "print('Pembagian Pembulatan Floring')\n",
        "print(3//2)"
      ],
      "execution_count": null,
      "outputs": [
        {
          "output_type": "stream",
          "name": "stdout",
          "text": [
            "Penjumlahan\n",
            "4\n",
            "--------------------\n",
            "Pengurangan\n",
            "-1\n",
            "--------------------\n",
            "Perkalian\n",
            "6\n",
            "--------------------\n",
            "Pembagian\n",
            "0.6666666666666666\n",
            "--------------------\n",
            "Modulus\n",
            "2\n",
            "--------------------\n",
            "Perpangkatan\n",
            "8\n",
            "--------------------\n",
            "Pembagian Pembulatan Floring\n",
            "1\n"
          ]
        }
      ]
    },
    {
      "cell_type": "markdown",
      "metadata": {
        "id": "CPhtpVqoF6ZW"
      },
      "source": [
        "**Latihan Operator 1**"
      ]
    },
    {
      "cell_type": "code",
      "metadata": {
        "colab": {
          "base_uri": "https://localhost:8080/"
        },
        "id": "iX1CkYnKF_hX",
        "outputId": "91ce891b-0cf3-4692-a095-ca134b9f2219"
      },
      "source": [
        "# Buatlah program penerapan operator aritmatika\n",
        "# dengan nilai-nilai yang berbeda dari contoh di atas\n",
        "\n",
        "#Penjumlahan\n",
        "print('Penjumlahan')\n",
        "print(10+1)\n",
        "\n",
        "#Pengurangan\n",
        "print('-'*20)\n",
        "print('Pengurangan')\n",
        "print(25-5)\n",
        "\n",
        "#Perkalian\n",
        "print('-'*20)\n",
        "print('Perkalian')\n",
        "print(4*2)\n",
        "\n",
        "#Pembagian\n",
        "print('-'*20)\n",
        "print('Pembagian')\n",
        "print(1/2)\n",
        "\n",
        "#Modulus\n",
        "print('-'*20)\n",
        "print('Modulus')\n",
        "print(144%5)\n",
        "\n",
        "#Perpangkatan\n",
        "print('-'*20)\n",
        "print('Perpangkatan')\n",
        "print(10**7)\n",
        "\n",
        "#Pembagian Pembulatan Floring\n",
        "print('-'*20)\n",
        "print('Pembagian Pembulatan Floring')\n",
        "print(7//2)"
      ],
      "execution_count": null,
      "outputs": [
        {
          "output_type": "stream",
          "name": "stdout",
          "text": [
            "Penjumlahan\n",
            "11\n",
            "--------------------\n",
            "Pengurangan\n",
            "20\n",
            "--------------------\n",
            "Perkalian\n",
            "8\n",
            "--------------------\n",
            "Pembagian\n",
            "0.5\n",
            "--------------------\n",
            "Modulus\n",
            "4\n",
            "--------------------\n",
            "Perpangkatan\n",
            "10000000\n",
            "--------------------\n",
            "Pembagian Pembulatan Floring\n",
            "3\n"
          ]
        }
      ]
    },
    {
      "cell_type": "markdown",
      "metadata": {
        "id": "DmgAh9duIy4S"
      },
      "source": [
        "# **Operator Assignment**"
      ]
    },
    {
      "cell_type": "markdown",
      "metadata": {
        "id": "onK-sCv2I9RJ"
      },
      "source": [
        "Operator `assignment` digunakan untuk menyimpan nilai menjadi suatu variabel\n",
        "\n",
        "\n",
        "```\n",
        "=    : contohnya x = 5       ->   x = 5\n",
        "+=   : contohnya x = x + 5   ->   x += 5\n",
        "-=   : contohnya x = x - 5   ->   x -= 5\n",
        "*=   : contohnya x = x * 5   ->   x *= 5\n",
        "/=   : contohnya x = x / 5   ->   x /= 5\n",
        "%=   : contohnya x = x % 5   ->   x %= 5\n",
        "//=  : contohnya x = x // 5  ->   x //= 5\n",
        "**=  : contohnya x = x ** 5  ->   x **= 5\n",
        "```\n",
        "\n"
      ]
    },
    {
      "cell_type": "code",
      "metadata": {
        "colab": {
          "base_uri": "https://localhost:8080/"
        },
        "id": "JZ19gWR0KWf3",
        "outputId": "153fa9e8-3583-41b6-9208-6325333339e6"
      },
      "source": [
        "# Contoh penggunaan operator Assignment\n",
        "\n",
        "#Penjumlahan\n",
        "print('Penjumlahan')\n",
        "x=5\n",
        "x=x+5\n",
        "print(x)\n",
        "x=5\n",
        "x+=3\n",
        "print(x)\n",
        "print('-'*20)\n",
        "\n",
        "#Pengurangan\n",
        "print('Pengurangan')\n",
        "x=5\n",
        "x=x-5\n",
        "print(x)\n",
        "x=5\n",
        "x-=3\n",
        "print(x)\n",
        "print('-'*20)\n",
        "\n",
        "#Perkalian\n",
        "print('Perkalian')\n",
        "x=5\n",
        "x=x*5\n",
        "print(x)\n",
        "x=5\n",
        "x*=3\n",
        "print(x)\n",
        "print('-'*20)\n",
        "\n",
        "#Pembagian\n",
        "print('Pembagian')\n",
        "x=5\n",
        "x=x/5\n",
        "print(x)\n",
        "x=5\n",
        "x/=3\n",
        "print(x)\n",
        "print('-'*20)\n",
        "\n",
        "#Modulus\n",
        "print('Modulus')\n",
        "x=5\n",
        "x=x%5\n",
        "print(x)\n",
        "x=5\n",
        "x%=3\n",
        "print(x)\n",
        "print('-'*20)\n",
        "\n",
        "#Pembagian Floring\n",
        "print('Pembagian Floring')\n",
        "x=5\n",
        "x=x//5\n",
        "print(x)\n",
        "x=5\n",
        "x//=3\n",
        "print(x)\n",
        "print('-'*20)\n",
        "\n",
        "#Perpangkatan\n",
        "print('Perpangkatan')\n",
        "x=5\n",
        "x=x**5\n",
        "print(x)\n",
        "x=5\n",
        "x**=3\n",
        "print(x)\n",
        "print('-'*20)"
      ],
      "execution_count": null,
      "outputs": [
        {
          "output_type": "stream",
          "name": "stdout",
          "text": [
            "Penjumlahan\n",
            "10\n",
            "8\n",
            "--------------------\n",
            "Pengurangan\n",
            "0\n",
            "2\n",
            "--------------------\n",
            "Perkalian\n",
            "25\n",
            "15\n",
            "--------------------\n",
            "Pembagian\n",
            "1.0\n",
            "1.6666666666666667\n",
            "--------------------\n",
            "Modulus\n",
            "0\n",
            "2\n",
            "--------------------\n",
            "Pembagian Floring\n",
            "1\n",
            "1\n",
            "--------------------\n",
            "Perpangkatan\n",
            "3125\n",
            "125\n",
            "--------------------\n"
          ]
        }
      ]
    },
    {
      "cell_type": "markdown",
      "metadata": {
        "id": "WDbYrOHKGaTg"
      },
      "source": [
        "**Latihan Operator 2**"
      ]
    },
    {
      "cell_type": "code",
      "metadata": {
        "colab": {
          "base_uri": "https://localhost:8080/"
        },
        "id": "DSONazJvGeF3",
        "outputId": "76a21556-2975-484c-8e46-6620ad227f64"
      },
      "source": [
        "# Buatlah program penerapan operator assignment\n",
        "# dengan nilai-nilai yang berbeda dari contoh di atas\n",
        "\n",
        "#Penjumlahan\n",
        "print('Penjumlahan')\n",
        "x=2\n",
        "x=x+7\n",
        "print(x)\n",
        "x=2\n",
        "x+=5\n",
        "print(x)\n",
        "print('-'*20)\n",
        "\n",
        "#Pengurangan\n",
        "print('Pengurangan')\n",
        "x=2\n",
        "x=x-7\n",
        "print(x)\n",
        "x=2\n",
        "x-=5\n",
        "print(x)\n",
        "print('-'*20)\n",
        "\n",
        "#Perkalian\n",
        "print('Perkalian')\n",
        "x=2\n",
        "x=x*7\n",
        "print(x)\n",
        "x=2\n",
        "x*=5\n",
        "print(x)\n",
        "print('-'*20)\n",
        "\n",
        "#Pembagian\n",
        "print('Pembagian')\n",
        "x=2\n",
        "x=x/7\n",
        "print(x)\n",
        "x=2\n",
        "x/=5\n",
        "print(x)\n",
        "print('-'*20)\n",
        "\n",
        "#Modulus\n",
        "print('Modulus')\n",
        "x=2\n",
        "x=x%7\n",
        "print(x)\n",
        "x=2\n",
        "x%=5\n",
        "print(x)\n",
        "print('-'*20)\n",
        "\n",
        "#Pembagian Floring\n",
        "print('Pembagian Floring')\n",
        "x=2\n",
        "x=x//7\n",
        "print(x)\n",
        "x=2\n",
        "x//=5\n",
        "print(x)\n",
        "print('-'*20)\n",
        "\n",
        "#Perpangkatan\n",
        "print('Perpangkatan')\n",
        "x=2\n",
        "x=x**7\n",
        "print(x)\n",
        "x=2\n",
        "x**=5\n",
        "print(x)\n",
        "print('-'*20)"
      ],
      "execution_count": null,
      "outputs": [
        {
          "output_type": "stream",
          "name": "stdout",
          "text": [
            "Penjumlahan\n",
            "9\n",
            "7\n",
            "--------------------\n",
            "Pengurangan\n",
            "-5\n",
            "-3\n",
            "--------------------\n",
            "Perkalian\n",
            "14\n",
            "10\n",
            "--------------------\n",
            "Pembagian\n",
            "0.2857142857142857\n",
            "0.4\n",
            "--------------------\n",
            "Modulus\n",
            "2\n",
            "2\n",
            "--------------------\n",
            "Pembagian Floring\n",
            "0\n",
            "0\n",
            "--------------------\n",
            "Perpangkatan\n",
            "128\n",
            "32\n",
            "--------------------\n"
          ]
        }
      ]
    },
    {
      "cell_type": "markdown",
      "metadata": {
        "id": "bd6FA2auGoU_"
      },
      "source": [
        "# **Operator Pembanding**"
      ]
    },
    {
      "cell_type": "markdown",
      "metadata": {
        "id": "PlYZJXcUGuwQ"
      },
      "source": [
        "Operator pembanding digunakan untuk membandingkan 2 nilai atau variabel\n",
        "\n",
        "macam-macam operator pembanding:\n",
        "\n",
        "\n",
        "```\n",
        "==  -> samadengan\n",
        "!=  -> tidak samadengan\n",
        ">   -> lebih dari\n",
        "<   -> kurang dari\n",
        ">=  -> lebih dari dan samadengan\n",
        "<=  -> kurang dari dan samadengan\n",
        "```\n",
        "\n"
      ]
    },
    {
      "cell_type": "code",
      "metadata": {
        "colab": {
          "base_uri": "https://localhost:8080/"
        },
        "id": "u-YbQ5d2HYqK",
        "outputId": "0b9726c6-6455-4132-b224-4f70bd16cf1e"
      },
      "source": [
        "# Contoh penggunaan operator pembanding\n",
        "\n",
        "print(2==2)\n",
        "print(2!=2)\n",
        "print(2>2)\n",
        "print(2<2)\n",
        "print(2>=2)\n",
        "print(2<=2)"
      ],
      "execution_count": null,
      "outputs": [
        {
          "output_type": "stream",
          "name": "stdout",
          "text": [
            "True\n",
            "False\n",
            "False\n",
            "False\n",
            "True\n",
            "True\n"
          ]
        }
      ]
    },
    {
      "cell_type": "markdown",
      "metadata": {
        "id": "3p-RTbO4Hog1"
      },
      "source": [
        "**Latihan Operator 3**"
      ]
    },
    {
      "cell_type": "code",
      "metadata": {
        "colab": {
          "base_uri": "https://localhost:8080/"
        },
        "id": "El-NsLf6Hvxq",
        "outputId": "d777cc20-9b25-4c93-e860-de4077cb1ed9"
      },
      "source": [
        "# Buatlah program penerapan operator pembanding\n",
        "# dengan nilai-nilai yang berbeda dari contoh di atas\n",
        "\n",
        "print(5==7)\n",
        "print(3!=2)\n",
        "print(-5>5)\n",
        "print(0<9)\n",
        "print(111>=11)\n",
        "print(3030<=303)"
      ],
      "execution_count": null,
      "outputs": [
        {
          "output_type": "stream",
          "name": "stdout",
          "text": [
            "False\n",
            "True\n",
            "False\n",
            "True\n",
            "True\n",
            "False\n"
          ]
        }
      ]
    },
    {
      "cell_type": "markdown",
      "metadata": {
        "id": "VbuyOnO4H71p"
      },
      "source": [
        "# **Operator Logika**"
      ]
    },
    {
      "cell_type": "markdown",
      "metadata": {
        "id": "stChk1S6IBZ5"
      },
      "source": [
        "Operator logika digunakan untuk mengkombinasikan statment-statment kondisional\n",
        "\n",
        "macam-macam operator logika:\n",
        "\n",
        "\n",
        "```\n",
        "and -> kondisi menjadi benar apabila semua statementnya benar\n",
        "or  -> kondisi menjadi benar apabila salah satu statementnya ada yang benar\n",
        "not -> membalik hasil dari benar ke salah dan salah ke benar\n",
        "```\n",
        "\n"
      ]
    },
    {
      "cell_type": "code",
      "metadata": {
        "colab": {
          "base_uri": "https://localhost:8080/"
        },
        "id": "Wm6gUJSvIQaf",
        "outputId": "31ef76f8-d7d3-4aa5-84d9-6f512efac079"
      },
      "source": [
        "# Contoh penggunaan operator logika\n",
        "\n",
        "print(True and False)\n",
        "print(False or False)\n",
        "print(not False and True)"
      ],
      "execution_count": null,
      "outputs": [
        {
          "output_type": "stream",
          "name": "stdout",
          "text": [
            "False\n",
            "False\n",
            "True\n"
          ]
        }
      ]
    },
    {
      "cell_type": "markdown",
      "metadata": {
        "id": "YSiYXnBYI91K"
      },
      "source": [
        "**Latihan Operator 4**"
      ]
    },
    {
      "cell_type": "code",
      "metadata": {
        "colab": {
          "base_uri": "https://localhost:8080/"
        },
        "id": "QxeDRRDuJBxc",
        "outputId": "9f782c81-e0c4-44d6-b809-d29fb07d5d68"
      },
      "source": [
        "# Buatlah program penerapan operator logika\n",
        "# dengan nilai-nilai yang berbeda dari contoh di atas\n",
        "\n",
        "print(False and False)\n",
        "print(True or False)\n",
        "print(not True or False)"
      ],
      "execution_count": null,
      "outputs": [
        {
          "output_type": "stream",
          "name": "stdout",
          "text": [
            "False\n",
            "True\n",
            "False\n"
          ]
        }
      ]
    },
    {
      "cell_type": "markdown",
      "metadata": {
        "id": "gad2E70TJLdt"
      },
      "source": [
        "# **Operator Keanggotaan**"
      ]
    },
    {
      "cell_type": "markdown",
      "metadata": {
        "id": "Lp5yOxW0JTLU"
      },
      "source": [
        "Operator keanggotaan digunakan untuk menguji apakah urutan dusajikan dalam suatu objek\n",
        "\n",
        "\n",
        "```\n",
        "in       -> return True ketika nilai tertentu dalam sebuah urutan ada\n",
        "not in   -> return True ketika nilai tertentu dalam sebuah urutan tidak ada\n",
        "```\n",
        "\n"
      ]
    },
    {
      "cell_type": "code",
      "metadata": {
        "colab": {
          "base_uri": "https://localhost:8080/"
        },
        "id": "xMlPgT-RJwSj",
        "outputId": "4525595d-db47-4071-fc9d-c46e569ba1d3"
      },
      "source": [
        "# Contoh penggunaan operator keanggotaan\n",
        "a = (1,2,3,4,5,6)\n",
        "b = 2\n",
        "\n",
        "print(b in a)\n",
        "\n",
        "print('-'*20)\n",
        "a = (1,2,3,4,5,6)\n",
        "b = 7\n",
        "print(b not in a)"
      ],
      "execution_count": null,
      "outputs": [
        {
          "output_type": "stream",
          "name": "stdout",
          "text": [
            "True\n",
            "--------------------\n",
            "True\n"
          ]
        }
      ]
    },
    {
      "cell_type": "markdown",
      "metadata": {
        "id": "_2ETacrLKCWj"
      },
      "source": [
        "**Latihan Operator 5**"
      ]
    },
    {
      "cell_type": "code",
      "metadata": {
        "colab": {
          "base_uri": "https://localhost:8080/"
        },
        "id": "AUkTZMPRKHwB",
        "outputId": "eff89b4d-fab9-488e-fb0b-3b2ec0427bdb"
      },
      "source": [
        "# Buatlah program penerapan operator keanggotaan/membership\n",
        "# dengan nilai-nilai yang berbeda dari contoh di atas\n",
        "\n",
        "a = (1,3,5,7,9,11)\n",
        "b = (5)\n",
        "print('b tidak ada di a')\n",
        "print(b not in a)\n",
        "print('b ada di a')\n",
        "print(b in a)"
      ],
      "execution_count": null,
      "outputs": [
        {
          "output_type": "stream",
          "name": "stdout",
          "text": [
            "b tidak ada di a\n",
            "False\n",
            "b ada di a\n",
            "True\n"
          ]
        }
      ]
    }
  ]
}