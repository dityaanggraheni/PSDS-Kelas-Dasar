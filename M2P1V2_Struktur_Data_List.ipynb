{
  "nbformat": 4,
  "nbformat_minor": 0,
  "metadata": {
    "colab": {
      "name": "M2P1V2_Struktur_Data_List.ipynb",
      "provenance": []
    },
    "kernelspec": {
      "name": "python3",
      "display_name": "Python 3"
    },
    "language_info": {
      "name": "python"
    }
  },
  "cells": [
    {
      "cell_type": "markdown",
      "metadata": {
        "id": "opUjVD1EBlJC"
      },
      "source": [
        "# **List**"
      ]
    },
    {
      "cell_type": "markdown",
      "metadata": {
        "id": "8F6FxMt-B8yI"
      },
      "source": [
        "List adalah jenis kumpulan data terurut (ordered sequence), dan merupakan salah satu variabel yang sering digunakan pada Python. Serupa, namun tak sama dengan array pada bahasa pemrograman lainnya. Bedanya, elemen List pada Python tidak harus memiliki tipe data yang sama. Mendeklarasikan List cukup mudah dengan kurung siku dan elemen yang dipisahkan dengan koma.\n",
        "\n",
        "Setiap data di dalamnya dapat diakses dengan indeks yang dimulai dari 0."
      ]
    },
    {
      "cell_type": "code",
      "metadata": {
        "colab": {
          "base_uri": "https://localhost:8080/"
        },
        "id": "ZdNvWG4OC0gD",
        "outputId": "4a541d5d-b925-4d38-f1db-4039b4f75cdc"
      },
      "source": [
        "# Contoh List\n",
        "L1 = [1, 4, 2, 13]\n",
        "\n",
        "print(type(L1))"
      ],
      "execution_count": null,
      "outputs": [
        {
          "output_type": "stream",
          "name": "stdout",
          "text": [
            "<class 'list'>\n"
          ]
        }
      ]
    },
    {
      "cell_type": "code",
      "metadata": {
        "colab": {
          "base_uri": "https://localhost:8080/"
        },
        "id": "0RiIf35RDR7J",
        "outputId": "5fc6e519-d9eb-44fe-d513-c384789b6204"
      },
      "source": [
        "L2 = [\"a\",\"Python\",3]\n",
        "L2"
      ],
      "execution_count": null,
      "outputs": [
        {
          "output_type": "execute_result",
          "data": {
            "text/plain": [
              "['a', 'Python', 3]"
            ]
          },
          "metadata": {},
          "execution_count": 2
        }
      ]
    },
    {
      "cell_type": "code",
      "metadata": {
        "colab": {
          "base_uri": "https://localhost:8080/"
        },
        "id": "Bwig8bgaDhXP",
        "outputId": "a79d185d-a359-4c1d-9289-77dd8909ee5f"
      },
      "source": [
        "print(L1)\n",
        "print(L2)"
      ],
      "execution_count": null,
      "outputs": [
        {
          "output_type": "stream",
          "name": "stdout",
          "text": [
            "[1, 4, 2, 13]\n",
            "['a', 'Python', 3]\n"
          ]
        }
      ]
    },
    {
      "cell_type": "markdown",
      "metadata": {
        "id": "jzA_til5Dpjv"
      },
      "source": [
        "**Latihan 1**"
      ]
    },
    {
      "cell_type": "code",
      "metadata": {
        "colab": {
          "base_uri": "https://localhost:8080/"
        },
        "id": "hgFO4ku4Ds-V",
        "outputId": "adb337bc-1061-4301-ea3b-44da28ac671b"
      },
      "source": [
        "# Buatlah List kalian sendiri\n",
        "list1 = [1, 3, 5, 7, 9, 11]\n",
        "list2 = [\"bear\",\"sunflo\",66]\n",
        "\n",
        "print(list1)\n",
        "print(list2)"
      ],
      "execution_count": null,
      "outputs": [
        {
          "output_type": "stream",
          "name": "stdout",
          "text": [
            "[1, 3, 5, 7, 9, 11]\n",
            "['bear', 'sunflo', 66]\n"
          ]
        }
      ]
    },
    {
      "cell_type": "markdown",
      "metadata": {
        "id": "3CGFQA77D11i"
      },
      "source": [
        "Indeks di Python (List, Tuple) mulai dari 0"
      ]
    },
    {
      "cell_type": "code",
      "metadata": {
        "colab": {
          "base_uri": "https://localhost:8080/"
        },
        "id": "o48mg8XnD-bE",
        "outputId": "78a4ed56-b7b7-4f78-bcf6-3d5dfcae9103"
      },
      "source": [
        "# Sifat-Sifat List\n",
        "\n",
        "# Terurut/Ordered\n",
        "print(\"Memanggil List L1 dengan indeks urutan:\", L1[0:3])\n",
        "\n",
        "# Bisa Diganti/Mutable\n",
        "L1[1] = 2\n",
        "print(\"List L1 setelah diganti elemennya:\", L1)\n",
        "\n",
        "L1 = [1, \"dua\", True, 2+3j]\n",
        "\n",
        "# Dapat Diindeks/Slicing\n",
        "print(\"Slicing List L1:\", L1[3])\n",
        "\n",
        "# Dapat Diijinkan Duplikasi\n",
        "L1 = [1, \"dua\", True, 2+3j, 2+3j]\n",
        "print(\"Duplikasi pada List L1:\", L1)"
      ],
      "execution_count": null,
      "outputs": [
        {
          "output_type": "stream",
          "name": "stdout",
          "text": [
            "Memanggil List L1 dengan indeks urutan: [1, 4, 2]\n",
            "List L1 setelah diganti elemennya: [1, 2, 2, 13]\n",
            "Slicing List L1: (2+3j)\n",
            "Duplikasi pada List L1: [1, 'dua', True, (2+3j), (2+3j)]\n"
          ]
        }
      ]
    },
    {
      "cell_type": "markdown",
      "metadata": {
        "id": "OVm3iPXLFAfs"
      },
      "source": [
        "**Latihan 2**"
      ]
    },
    {
      "cell_type": "code",
      "metadata": {
        "colab": {
          "base_uri": "https://localhost:8080/"
        },
        "id": "9yhJRvmdFELa",
        "outputId": "96b9ab81-f6e9-41aa-dba9-043e23934c14"
      },
      "source": [
        "# Ganti elemen yang ada pada List yang kalian buat\n",
        "list1[3] = 2021\n",
        "list2[1] = 'red'\n",
        "print(\"List list1 setelah diganti elemennya:\", list1)\n",
        "print(\"List list2 setelah diganti elemennya:\", list2)"
      ],
      "execution_count": null,
      "outputs": [
        {
          "output_type": "stream",
          "name": "stdout",
          "text": [
            "List list1 setelah diganti elemennya: [1, 3, 5, 2021, 9, 11]\n",
            "List list2 setelah diganti elemennya: ['bear', 'red', 66]\n"
          ]
        }
      ]
    }
  ]
}