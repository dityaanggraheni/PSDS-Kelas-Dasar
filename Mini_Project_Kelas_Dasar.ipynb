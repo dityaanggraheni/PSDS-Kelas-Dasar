{
  "nbformat": 4,
  "nbformat_minor": 0,
  "metadata": {
    "colab": {
      "name": "Mini-Project_Kelas Dasar.ipynb",
      "provenance": [],
      "collapsed_sections": [
        "DgO3iYs1pTUx",
        "7ltsR5GipWFY",
        "fUPuwvj4Af2R",
        "MIIf-Z3tNW91",
        "w6_tFiOr08_h",
        "zkJfG08X9h7q",
        "uNyVosCy0TOk",
        "1Ds-aRB5CUHW",
        "APzOMTASHRTp"
      ]
    },
    "kernelspec": {
      "name": "python3",
      "display_name": "Python 3"
    }
  },
  "cells": [
    {
      "cell_type": "markdown",
      "metadata": {
        "id": "oDHEL6DqpPVJ"
      },
      "source": [
        "#Streaming Spotify TOP 100"
      ]
    },
    {
      "cell_type": "markdown",
      "metadata": {
        "id": "DgO3iYs1pTUx"
      },
      "source": [
        "##Latar Belakang Dataset"
      ]
    },
    {
      "cell_type": "markdown",
      "metadata": {
        "id": "XfG57UKP4qZY"
      },
      "source": [
        "Spotify adalah salah satu platform untuk streaming musik dan podcast. Di notebook ini, saya akan melakukan analisis lagu-lagu streaming Spotify top 100 untuk menemukan pola yang menarik di antara lagu-lagu top tersebut."
      ]
    },
    {
      "cell_type": "markdown",
      "metadata": {
        "id": "7ltsR5GipWFY"
      },
      "source": [
        "## Pertanyaan Analisis"
      ]
    },
    {
      "cell_type": "markdown",
      "metadata": {
        "id": "52LcEOjKfpcr"
      },
      "source": [
        "\n",
        "\n",
        "1. Feature musik vs tahun release\n",
        "2. Genre lagu yang paling banyak pada spotify top 100\n",
        "3. Artis yang memiliki lagu lebih dari satu pada spotify top 100\n",
        "4. Tahun release paling banyak dari lagu top 100\n",
        "5. Lagu top 5 berdasarkan popularity lagu tersebut\n",
        "\n"
      ]
    },
    {
      "cell_type": "markdown",
      "metadata": {
        "id": "fUPuwvj4Af2R"
      },
      "source": [
        "##EDA (Exploratory Data Analysis)"
      ]
    },
    {
      "cell_type": "code",
      "metadata": {
        "id": "eglFrDo0ArQE"
      },
      "source": [
        "# import libraries\n",
        "import numpy as np\n",
        "import pandas as pd\n",
        "import seaborn as sns\n",
        "import matplotlib.pyplot as plt"
      ],
      "execution_count": null,
      "outputs": []
    },
    {
      "cell_type": "code",
      "metadata": {
        "colab": {
          "base_uri": "https://localhost:8080/",
          "height": 329
        },
        "id": "Mq2mvICQ36f7",
        "outputId": "cd67d5a7-eff4-4fa9-8dd7-eff376427c9a"
      },
      "source": [
        "data = pd.read_csv('/content/Top 100 most Streamed.csv')\n",
        "data.head()"
      ],
      "execution_count": null,
      "outputs": [
        {
          "output_type": "execute_result",
          "data": {
            "text/html": [
              "<div>\n",
              "<style scoped>\n",
              "    .dataframe tbody tr th:only-of-type {\n",
              "        vertical-align: middle;\n",
              "    }\n",
              "\n",
              "    .dataframe tbody tr th {\n",
              "        vertical-align: top;\n",
              "    }\n",
              "\n",
              "    .dataframe thead th {\n",
              "        text-align: right;\n",
              "    }\n",
              "</style>\n",
              "<table border=\"1\" class=\"dataframe\">\n",
              "  <thead>\n",
              "    <tr style=\"text-align: right;\">\n",
              "      <th></th>\n",
              "      <th>title</th>\n",
              "      <th>artist</th>\n",
              "      <th>top genre</th>\n",
              "      <th>year</th>\n",
              "      <th>beats.per.minute</th>\n",
              "      <th>energy</th>\n",
              "      <th>danceability</th>\n",
              "      <th>loudness.dB</th>\n",
              "      <th>liveness</th>\n",
              "      <th>valance</th>\n",
              "      <th>length</th>\n",
              "      <th>acousticness</th>\n",
              "      <th>speechiness</th>\n",
              "      <th>popularity</th>\n",
              "    </tr>\n",
              "  </thead>\n",
              "  <tbody>\n",
              "    <tr>\n",
              "      <th>0</th>\n",
              "      <td>Blinding Lights</td>\n",
              "      <td>The Weeknd</td>\n",
              "      <td>canadian contemporary r&amp;b</td>\n",
              "      <td>2020</td>\n",
              "      <td>171</td>\n",
              "      <td>73</td>\n",
              "      <td>51</td>\n",
              "      <td>-6</td>\n",
              "      <td>9</td>\n",
              "      <td>33</td>\n",
              "      <td>200</td>\n",
              "      <td>0</td>\n",
              "      <td>6</td>\n",
              "      <td>91</td>\n",
              "    </tr>\n",
              "    <tr>\n",
              "      <th>1</th>\n",
              "      <td>Watermelon Sugar</td>\n",
              "      <td>Harry Styles</td>\n",
              "      <td>pop</td>\n",
              "      <td>2019</td>\n",
              "      <td>95</td>\n",
              "      <td>82</td>\n",
              "      <td>55</td>\n",
              "      <td>-4</td>\n",
              "      <td>34</td>\n",
              "      <td>56</td>\n",
              "      <td>174</td>\n",
              "      <td>12</td>\n",
              "      <td>5</td>\n",
              "      <td>88</td>\n",
              "    </tr>\n",
              "    <tr>\n",
              "      <th>2</th>\n",
              "      <td>Mood (feat. iann dior)</td>\n",
              "      <td>24kGoldn</td>\n",
              "      <td>cali rap</td>\n",
              "      <td>2021</td>\n",
              "      <td>91</td>\n",
              "      <td>72</td>\n",
              "      <td>70</td>\n",
              "      <td>-4</td>\n",
              "      <td>32</td>\n",
              "      <td>73</td>\n",
              "      <td>141</td>\n",
              "      <td>17</td>\n",
              "      <td>4</td>\n",
              "      <td>88</td>\n",
              "    </tr>\n",
              "    <tr>\n",
              "      <th>3</th>\n",
              "      <td>Someone You Loved</td>\n",
              "      <td>Lewis Capaldi</td>\n",
              "      <td>pop</td>\n",
              "      <td>2019</td>\n",
              "      <td>110</td>\n",
              "      <td>41</td>\n",
              "      <td>50</td>\n",
              "      <td>-6</td>\n",
              "      <td>11</td>\n",
              "      <td>45</td>\n",
              "      <td>182</td>\n",
              "      <td>75</td>\n",
              "      <td>3</td>\n",
              "      <td>86</td>\n",
              "    </tr>\n",
              "    <tr>\n",
              "      <th>4</th>\n",
              "      <td>Perfect</td>\n",
              "      <td>Ed Sheeran</td>\n",
              "      <td>pop</td>\n",
              "      <td>2017</td>\n",
              "      <td>95</td>\n",
              "      <td>45</td>\n",
              "      <td>60</td>\n",
              "      <td>-6</td>\n",
              "      <td>11</td>\n",
              "      <td>17</td>\n",
              "      <td>263</td>\n",
              "      <td>16</td>\n",
              "      <td>2</td>\n",
              "      <td>86</td>\n",
              "    </tr>\n",
              "  </tbody>\n",
              "</table>\n",
              "</div>"
            ],
            "text/plain": [
              "                    title         artist  ... speechiness  popularity\n",
              "0         Blinding Lights     The Weeknd  ...           6          91\n",
              "1        Watermelon Sugar   Harry Styles  ...           5          88\n",
              "2  Mood (feat. iann dior)       24kGoldn  ...           4          88\n",
              "3       Someone You Loved  Lewis Capaldi  ...           3          86\n",
              "4                 Perfect     Ed Sheeran  ...           2          86\n",
              "\n",
              "[5 rows x 14 columns]"
            ]
          },
          "metadata": {},
          "execution_count": 4
        }
      ]
    },
    {
      "cell_type": "code",
      "metadata": {
        "colab": {
          "base_uri": "https://localhost:8080/"
        },
        "id": "WDmc-L9OIsD5",
        "outputId": "5cccfc97-ab74-4b4d-f2b3-939cd67ec6c5"
      },
      "source": [
        "data.info()"
      ],
      "execution_count": null,
      "outputs": [
        {
          "output_type": "stream",
          "name": "stdout",
          "text": [
            "<class 'pandas.core.frame.DataFrame'>\n",
            "RangeIndex: 100 entries, 0 to 99\n",
            "Data columns (total 14 columns):\n",
            " #   Column            Non-Null Count  Dtype \n",
            "---  ------            --------------  ----- \n",
            " 0   title             100 non-null    object\n",
            " 1   artist            100 non-null    object\n",
            " 2   top genre         100 non-null    object\n",
            " 3   year              100 non-null    int64 \n",
            " 4   beats.per.minute  100 non-null    int64 \n",
            " 5   energy            100 non-null    int64 \n",
            " 6   danceability      100 non-null    int64 \n",
            " 7   loudness.dB       100 non-null    int64 \n",
            " 8   liveness          100 non-null    int64 \n",
            " 9   valance           100 non-null    int64 \n",
            " 10  length            100 non-null    int64 \n",
            " 11  acousticness      100 non-null    int64 \n",
            " 12  speechiness       100 non-null    int64 \n",
            " 13  popularity        100 non-null    int64 \n",
            "dtypes: int64(11), object(3)\n",
            "memory usage: 11.1+ KB\n"
          ]
        }
      ]
    },
    {
      "cell_type": "code",
      "metadata": {
        "colab": {
          "base_uri": "https://localhost:8080/",
          "height": 319
        },
        "id": "utp-tp07IvVV",
        "outputId": "ebee9ec8-b231-4455-fa03-4d1499bacd55"
      },
      "source": [
        "data.describe()"
      ],
      "execution_count": null,
      "outputs": [
        {
          "output_type": "execute_result",
          "data": {
            "text/html": [
              "<div>\n",
              "<style scoped>\n",
              "    .dataframe tbody tr th:only-of-type {\n",
              "        vertical-align: middle;\n",
              "    }\n",
              "\n",
              "    .dataframe tbody tr th {\n",
              "        vertical-align: top;\n",
              "    }\n",
              "\n",
              "    .dataframe thead th {\n",
              "        text-align: right;\n",
              "    }\n",
              "</style>\n",
              "<table border=\"1\" class=\"dataframe\">\n",
              "  <thead>\n",
              "    <tr style=\"text-align: right;\">\n",
              "      <th></th>\n",
              "      <th>year</th>\n",
              "      <th>beats.per.minute</th>\n",
              "      <th>energy</th>\n",
              "      <th>danceability</th>\n",
              "      <th>loudness.dB</th>\n",
              "      <th>liveness</th>\n",
              "      <th>valance</th>\n",
              "      <th>length</th>\n",
              "      <th>acousticness</th>\n",
              "      <th>speechiness</th>\n",
              "      <th>popularity</th>\n",
              "    </tr>\n",
              "  </thead>\n",
              "  <tbody>\n",
              "    <tr>\n",
              "      <th>count</th>\n",
              "      <td>100.000000</td>\n",
              "      <td>100.000000</td>\n",
              "      <td>100.000000</td>\n",
              "      <td>100.00000</td>\n",
              "      <td>100.000000</td>\n",
              "      <td>100.000000</td>\n",
              "      <td>100.000000</td>\n",
              "      <td>100.000000</td>\n",
              "      <td>100.00000</td>\n",
              "      <td>100.000000</td>\n",
              "      <td>100.000000</td>\n",
              "    </tr>\n",
              "    <tr>\n",
              "      <th>mean</th>\n",
              "      <td>2015.960000</td>\n",
              "      <td>116.970000</td>\n",
              "      <td>62.680000</td>\n",
              "      <td>66.96000</td>\n",
              "      <td>-6.100000</td>\n",
              "      <td>16.860000</td>\n",
              "      <td>49.970000</td>\n",
              "      <td>214.530000</td>\n",
              "      <td>24.95000</td>\n",
              "      <td>9.930000</td>\n",
              "      <td>79.670000</td>\n",
              "    </tr>\n",
              "    <tr>\n",
              "      <th>std</th>\n",
              "      <td>5.327497</td>\n",
              "      <td>27.470629</td>\n",
              "      <td>16.491737</td>\n",
              "      <td>13.60401</td>\n",
              "      <td>1.987334</td>\n",
              "      <td>12.972403</td>\n",
              "      <td>21.737857</td>\n",
              "      <td>35.934974</td>\n",
              "      <td>26.27876</td>\n",
              "      <td>9.424077</td>\n",
              "      <td>5.905065</td>\n",
              "    </tr>\n",
              "    <tr>\n",
              "      <th>min</th>\n",
              "      <td>1975.000000</td>\n",
              "      <td>71.000000</td>\n",
              "      <td>11.000000</td>\n",
              "      <td>35.00000</td>\n",
              "      <td>-14.000000</td>\n",
              "      <td>3.000000</td>\n",
              "      <td>6.000000</td>\n",
              "      <td>119.000000</td>\n",
              "      <td>0.00000</td>\n",
              "      <td>2.000000</td>\n",
              "      <td>53.000000</td>\n",
              "    </tr>\n",
              "    <tr>\n",
              "      <th>25%</th>\n",
              "      <td>2015.000000</td>\n",
              "      <td>95.000000</td>\n",
              "      <td>52.000000</td>\n",
              "      <td>59.00000</td>\n",
              "      <td>-7.000000</td>\n",
              "      <td>10.000000</td>\n",
              "      <td>33.750000</td>\n",
              "      <td>190.500000</td>\n",
              "      <td>4.00000</td>\n",
              "      <td>4.000000</td>\n",
              "      <td>79.000000</td>\n",
              "    </tr>\n",
              "    <tr>\n",
              "      <th>50%</th>\n",
              "      <td>2017.000000</td>\n",
              "      <td>115.000000</td>\n",
              "      <td>64.500000</td>\n",
              "      <td>69.00000</td>\n",
              "      <td>-6.000000</td>\n",
              "      <td>12.000000</td>\n",
              "      <td>48.000000</td>\n",
              "      <td>210.000000</td>\n",
              "      <td>13.00000</td>\n",
              "      <td>6.000000</td>\n",
              "      <td>81.000000</td>\n",
              "    </tr>\n",
              "    <tr>\n",
              "      <th>75%</th>\n",
              "      <td>2018.000000</td>\n",
              "      <td>135.250000</td>\n",
              "      <td>76.000000</td>\n",
              "      <td>77.00000</td>\n",
              "      <td>-5.000000</td>\n",
              "      <td>17.250000</td>\n",
              "      <td>66.000000</td>\n",
              "      <td>234.250000</td>\n",
              "      <td>41.50000</td>\n",
              "      <td>11.000000</td>\n",
              "      <td>83.000000</td>\n",
              "    </tr>\n",
              "    <tr>\n",
              "      <th>max</th>\n",
              "      <td>2021.000000</td>\n",
              "      <td>186.000000</td>\n",
              "      <td>92.000000</td>\n",
              "      <td>91.00000</td>\n",
              "      <td>-3.000000</td>\n",
              "      <td>79.000000</td>\n",
              "      <td>93.000000</td>\n",
              "      <td>354.000000</td>\n",
              "      <td>98.00000</td>\n",
              "      <td>46.000000</td>\n",
              "      <td>91.000000</td>\n",
              "    </tr>\n",
              "  </tbody>\n",
              "</table>\n",
              "</div>"
            ],
            "text/plain": [
              "              year  beats.per.minute  ...  speechiness  popularity\n",
              "count   100.000000        100.000000  ...   100.000000  100.000000\n",
              "mean   2015.960000        116.970000  ...     9.930000   79.670000\n",
              "std       5.327497         27.470629  ...     9.424077    5.905065\n",
              "min    1975.000000         71.000000  ...     2.000000   53.000000\n",
              "25%    2015.000000         95.000000  ...     4.000000   79.000000\n",
              "50%    2017.000000        115.000000  ...     6.000000   81.000000\n",
              "75%    2018.000000        135.250000  ...    11.000000   83.000000\n",
              "max    2021.000000        186.000000  ...    46.000000   91.000000\n",
              "\n",
              "[8 rows x 11 columns]"
            ]
          },
          "metadata": {},
          "execution_count": 6
        }
      ]
    },
    {
      "cell_type": "markdown",
      "metadata": {
        "id": "MIIf-Z3tNW91"
      },
      "source": [
        "## Data Preparation"
      ]
    },
    {
      "cell_type": "markdown",
      "metadata": {
        "id": "Jipq6sFY0j9t"
      },
      "source": [
        "Tahun Release"
      ]
    },
    {
      "cell_type": "code",
      "metadata": {
        "colab": {
          "base_uri": "https://localhost:8080/",
          "height": 243
        },
        "id": "Gg9MoXc8Jmgw",
        "outputId": "c71aab63-bd7d-448f-d475-578bfac3a171"
      },
      "source": [
        "fig, ax = plt.subplots(1,2, figsize=(10,3))\n",
        "sns.histplot(ax=ax[0],x='year',data=data)\n",
        "sns.boxplot(ax=ax[1],x='year',data=data)"
      ],
      "execution_count": null,
      "outputs": [
        {
          "output_type": "execute_result",
          "data": {
            "text/plain": [
              "<matplotlib.axes._subplots.AxesSubplot at 0x7f9f68c910d0>"
            ]
          },
          "metadata": {},
          "execution_count": 7
        },
        {
          "output_type": "display_data",
          "data": {
            "image/png": "[encoded data removed]",
            "text/plain": [
              "<Figure size 720x216 with 2 Axes>"
            ]
          },
          "metadata": {
            "needs_background": "light"
          }
        }
      ]
    },
    {
      "cell_type": "code",
      "metadata": {
        "colab": {
          "base_uri": "https://localhost:8080/",
          "height": 333
        },
        "id": "AFZTfVgGJoJT",
        "outputId": "059a1003-9b84-439f-9acc-3938f54f6c5e"
      },
      "source": [
        "data[data['year']<2010]"
      ],
      "execution_count": null,
      "outputs": [
        {
          "output_type": "execute_result",
          "data": {
            "text/html": [
              "<div>\n",
              "<style scoped>\n",
              "    .dataframe tbody tr th:only-of-type {\n",
              "        vertical-align: middle;\n",
              "    }\n",
              "\n",
              "    .dataframe tbody tr th {\n",
              "        vertical-align: top;\n",
              "    }\n",
              "\n",
              "    .dataframe thead th {\n",
              "        text-align: right;\n",
              "    }\n",
              "</style>\n",
              "<table border=\"1\" class=\"dataframe\">\n",
              "  <thead>\n",
              "    <tr style=\"text-align: right;\">\n",
              "      <th></th>\n",
              "      <th>title</th>\n",
              "      <th>artist</th>\n",
              "      <th>top genre</th>\n",
              "      <th>year</th>\n",
              "      <th>beats.per.minute</th>\n",
              "      <th>energy</th>\n",
              "      <th>danceability</th>\n",
              "      <th>loudness.dB</th>\n",
              "      <th>liveness</th>\n",
              "      <th>valance</th>\n",
              "      <th>length</th>\n",
              "      <th>acousticness</th>\n",
              "      <th>speechiness</th>\n",
              "      <th>popularity</th>\n",
              "    </tr>\n",
              "  </thead>\n",
              "  <tbody>\n",
              "    <tr>\n",
              "      <th>44</th>\n",
              "      <td>Bohemian Rhapsody - Remastered 2011</td>\n",
              "      <td>Queen</td>\n",
              "      <td>classic rock</td>\n",
              "      <td>1975</td>\n",
              "      <td>71</td>\n",
              "      <td>40</td>\n",
              "      <td>41</td>\n",
              "      <td>-10</td>\n",
              "      <td>30</td>\n",
              "      <td>22</td>\n",
              "      <td>354</td>\n",
              "      <td>27</td>\n",
              "      <td>5</td>\n",
              "      <td>81</td>\n",
              "    </tr>\n",
              "    <tr>\n",
              "      <th>53</th>\n",
              "      <td>Mr. Brightside</td>\n",
              "      <td>The Killers</td>\n",
              "      <td>alternative rock</td>\n",
              "      <td>2004</td>\n",
              "      <td>148</td>\n",
              "      <td>91</td>\n",
              "      <td>35</td>\n",
              "      <td>-5</td>\n",
              "      <td>10</td>\n",
              "      <td>24</td>\n",
              "      <td>223</td>\n",
              "      <td>0</td>\n",
              "      <td>7</td>\n",
              "      <td>81</td>\n",
              "    </tr>\n",
              "    <tr>\n",
              "      <th>68</th>\n",
              "      <td>I'm Yours</td>\n",
              "      <td>Jason Mraz</td>\n",
              "      <td>acoustic pop</td>\n",
              "      <td>2008</td>\n",
              "      <td>151</td>\n",
              "      <td>46</td>\n",
              "      <td>69</td>\n",
              "      <td>-8</td>\n",
              "      <td>11</td>\n",
              "      <td>72</td>\n",
              "      <td>242</td>\n",
              "      <td>60</td>\n",
              "      <td>5</td>\n",
              "      <td>80</td>\n",
              "    </tr>\n",
              "    <tr>\n",
              "      <th>82</th>\n",
              "      <td>Wonderwall - Remastered</td>\n",
              "      <td>Oasis</td>\n",
              "      <td>beatlesque</td>\n",
              "      <td>1995</td>\n",
              "      <td>174</td>\n",
              "      <td>90</td>\n",
              "      <td>38</td>\n",
              "      <td>-4</td>\n",
              "      <td>19</td>\n",
              "      <td>47</td>\n",
              "      <td>259</td>\n",
              "      <td>0</td>\n",
              "      <td>4</td>\n",
              "      <td>77</td>\n",
              "    </tr>\n",
              "  </tbody>\n",
              "</table>\n",
              "</div>"
            ],
            "text/plain": [
              "                                  title       artist  ... speechiness  popularity\n",
              "44  Bohemian Rhapsody - Remastered 2011        Queen  ...           5          81\n",
              "53                       Mr. Brightside  The Killers  ...           7          81\n",
              "68                            I'm Yours   Jason Mraz  ...           5          80\n",
              "82              Wonderwall - Remastered        Oasis  ...           4          77\n",
              "\n",
              "[4 rows x 14 columns]"
            ]
          },
          "metadata": {},
          "execution_count": 8
        }
      ]
    },
    {
      "cell_type": "code",
      "metadata": {
        "colab": {
          "base_uri": "https://localhost:8080/"
        },
        "id": "MXZ8MMnIKj5l",
        "outputId": "b86d1127-facf-4bcc-fdec-6f88da330827"
      },
      "source": [
        "# Menghapus 4 lagu yang release sebelum 2010\n",
        "# untuk meningkatkan keterbacaan plot berikutnya\n",
        "data_clean = data.loc[data['year']>2010]\n",
        "data_clean['year']"
      ],
      "execution_count": null,
      "outputs": [
        {
          "output_type": "execute_result",
          "data": {
            "text/plain": [
              "0     2020\n",
              "1     2019\n",
              "2     2021\n",
              "3     2019\n",
              "4     2017\n",
              "      ... \n",
              "95    2016\n",
              "96    2015\n",
              "97    2021\n",
              "98    2018\n",
              "99    2016\n",
              "Name: year, Length: 96, dtype: int64"
            ]
          },
          "metadata": {},
          "execution_count": 10
        }
      ]
    },
    {
      "cell_type": "markdown",
      "metadata": {
        "id": "JlwVoiMew7zH"
      },
      "source": [
        "Genre"
      ]
    },
    {
      "cell_type": "code",
      "metadata": {
        "colab": {
          "base_uri": "https://localhost:8080/"
        },
        "id": "VY-xQ2jatm2M",
        "outputId": "b566d517-61cf-445e-caa9-1be4aadf5d9a"
      },
      "source": [
        "data.columns"
      ],
      "execution_count": null,
      "outputs": [
        {
          "output_type": "execute_result",
          "data": {
            "text/plain": [
              "Index(['title', 'artist', 'top genre', 'year', 'beats.per.minute', 'energy',\n",
              "       'danceability', 'loudness.dB', 'liveness', 'valance', 'length',\n",
              "       'acousticness', 'speechiness', 'popularity'],\n",
              "      dtype='object')"
            ]
          },
          "metadata": {},
          "execution_count": 11
        }
      ]
    },
    {
      "cell_type": "code",
      "metadata": {
        "colab": {
          "base_uri": "https://localhost:8080/",
          "height": 236
        },
        "id": "hdWWMeHfwEfX",
        "outputId": "38a82990-0195-417a-a1ec-7b1f50549245"
      },
      "source": [
        "data_genre = data.groupby(\"top genre\").sum()\n",
        "#Klasifikasi berdasarkan variabel genre\n",
        "data_genre.head()"
      ],
      "execution_count": null,
      "outputs": [
        {
          "output_type": "execute_result",
          "data": {
            "text/html": [
              "<div>\n",
              "<style scoped>\n",
              "    .dataframe tbody tr th:only-of-type {\n",
              "        vertical-align: middle;\n",
              "    }\n",
              "\n",
              "    .dataframe tbody tr th {\n",
              "        vertical-align: top;\n",
              "    }\n",
              "\n",
              "    .dataframe thead th {\n",
              "        text-align: right;\n",
              "    }\n",
              "</style>\n",
              "<table border=\"1\" class=\"dataframe\">\n",
              "  <thead>\n",
              "    <tr style=\"text-align: right;\">\n",
              "      <th></th>\n",
              "      <th>year</th>\n",
              "      <th>beats.per.minute</th>\n",
              "      <th>energy</th>\n",
              "      <th>danceability</th>\n",
              "      <th>loudness.dB</th>\n",
              "      <th>liveness</th>\n",
              "      <th>valance</th>\n",
              "      <th>length</th>\n",
              "      <th>acousticness</th>\n",
              "      <th>speechiness</th>\n",
              "      <th>popularity</th>\n",
              "    </tr>\n",
              "    <tr>\n",
              "      <th>top genre</th>\n",
              "      <th></th>\n",
              "      <th></th>\n",
              "      <th></th>\n",
              "      <th></th>\n",
              "      <th></th>\n",
              "      <th></th>\n",
              "      <th></th>\n",
              "      <th></th>\n",
              "      <th></th>\n",
              "      <th></th>\n",
              "      <th></th>\n",
              "    </tr>\n",
              "  </thead>\n",
              "  <tbody>\n",
              "    <tr>\n",
              "      <th>acoustic pop</th>\n",
              "      <td>2008</td>\n",
              "      <td>151</td>\n",
              "      <td>46</td>\n",
              "      <td>69</td>\n",
              "      <td>-8</td>\n",
              "      <td>11</td>\n",
              "      <td>72</td>\n",
              "      <td>242</td>\n",
              "      <td>60</td>\n",
              "      <td>5</td>\n",
              "      <td>80</td>\n",
              "    </tr>\n",
              "    <tr>\n",
              "      <th>alternative rock</th>\n",
              "      <td>2004</td>\n",
              "      <td>148</td>\n",
              "      <td>91</td>\n",
              "      <td>35</td>\n",
              "      <td>-5</td>\n",
              "      <td>10</td>\n",
              "      <td>24</td>\n",
              "      <td>223</td>\n",
              "      <td>0</td>\n",
              "      <td>7</td>\n",
              "      <td>81</td>\n",
              "    </tr>\n",
              "    <tr>\n",
              "      <th>australian dance</th>\n",
              "      <td>2016</td>\n",
              "      <td>90</td>\n",
              "      <td>70</td>\n",
              "      <td>63</td>\n",
              "      <td>-6</td>\n",
              "      <td>9</td>\n",
              "      <td>73</td>\n",
              "      <td>212</td>\n",
              "      <td>5</td>\n",
              "      <td>11</td>\n",
              "      <td>75</td>\n",
              "    </tr>\n",
              "    <tr>\n",
              "      <th>australian pop</th>\n",
              "      <td>2019</td>\n",
              "      <td>98</td>\n",
              "      <td>59</td>\n",
              "      <td>82</td>\n",
              "      <td>-6</td>\n",
              "      <td>15</td>\n",
              "      <td>51</td>\n",
              "      <td>209</td>\n",
              "      <td>69</td>\n",
              "      <td>9</td>\n",
              "      <td>80</td>\n",
              "    </tr>\n",
              "    <tr>\n",
              "      <th>beatlesque</th>\n",
              "      <td>1995</td>\n",
              "      <td>174</td>\n",
              "      <td>90</td>\n",
              "      <td>38</td>\n",
              "      <td>-4</td>\n",
              "      <td>19</td>\n",
              "      <td>47</td>\n",
              "      <td>259</td>\n",
              "      <td>0</td>\n",
              "      <td>4</td>\n",
              "      <td>77</td>\n",
              "    </tr>\n",
              "  </tbody>\n",
              "</table>\n",
              "</div>"
            ],
            "text/plain": [
              "                  year  beats.per.minute  ...  speechiness  popularity\n",
              "top genre                                 ...                         \n",
              "acoustic pop      2008               151  ...            5          80\n",
              "alternative rock  2004               148  ...            7          81\n",
              "australian dance  2016                90  ...           11          75\n",
              "australian pop    2019                98  ...            9          80\n",
              "beatlesque        1995               174  ...            4          77\n",
              "\n",
              "[5 rows x 11 columns]"
            ]
          },
          "metadata": {},
          "execution_count": 13
        }
      ]
    },
    {
      "cell_type": "markdown",
      "metadata": {
        "id": "5sxYxFXywv1N"
      },
      "source": [
        "##Data Visualization"
      ]
    },
    {
      "cell_type": "markdown",
      "metadata": {
        "id": "w6_tFiOr08_h"
      },
      "source": [
        "###1. Feature musik vs tahun release!"
      ]
    },
    {
      "cell_type": "code",
      "metadata": {
        "id": "IExkVaFFSvRJ"
      },
      "source": [
        "def plot_feat(data,string):\n",
        "    fig, ax = plt.subplots(3,3, figsize=(12,6),sharey=True, sharex=True)\n",
        "    sns.barplot(ax=ax[0,0], y=string, x= 'energy', data=data, orient = 'h')\n",
        "    sns.barplot(ax=ax[0,1], y=string, x= 'danceability', data=data, orient = 'h')\n",
        "    sns.barplot(ax=ax[0,2], y=string, x= 'liveness', data=data, orient = 'h')\n",
        "    sns.barplot(ax=ax[1,0], y=string, x= 'valance', data=data, orient = 'h')\n",
        "    sns.barplot(ax=ax[1,1], y=string, x= 'acousticness', data=data, orient = 'h')\n",
        "    sns.barplot(ax=ax[1,2], y=string, x= 'speechiness', data=data, orient = 'h')\n",
        "    sns.barplot(ax=ax[2,0], y=string, x= 'popularity', data=data, orient = 'h')\n",
        "    ax[2,1].axis('off')\n",
        "    ax[2,2].axis('off')\n",
        "    plt.tight_layout()"
      ],
      "execution_count": null,
      "outputs": []
    },
    {
      "cell_type": "code",
      "metadata": {
        "colab": {
          "base_uri": "https://localhost:8080/",
          "height": 441
        },
        "id": "8KSmzAUVSy4g",
        "outputId": "55128fe0-746f-46f3-b356-ff5d3a6f24ad"
      },
      "source": [
        "plot_feat(data_clean,'year')"
      ],
      "execution_count": null,
      "outputs": [
        {
          "output_type": "display_data",
          "data": {
            "image/png": "[encoded data removed]",
            "text/plain": [
              "<Figure size 864x432 with 9 Axes>"
            ]
          },
          "metadata": {
            "needs_background": "light"
          }
        }
      ]
    },
    {
      "cell_type": "code",
      "metadata": {
        "id": "4N4DQlut5yh2"
      },
      "source": [
        "data_music = data_clean.drop(['year','artist','top genre','title','loudness.dB','length','beats.per.minute'], axis=1)"
      ],
      "execution_count": null,
      "outputs": []
    },
    {
      "cell_type": "code",
      "metadata": {
        "colab": {
          "base_uri": "https://localhost:8080/",
          "height": 302
        },
        "id": "o_0CyYBT6Kis",
        "outputId": "44820d18-f05b-497d-f4ad-023155b43697"
      },
      "source": [
        "plt.figure(figsize=(4,4))\n",
        "data_music.mean().plot(kind='barh')\n",
        "plt.xticks(rotation=90)\n",
        "plt.title('Musical features mean values')"
      ],
      "execution_count": null,
      "outputs": [
        {
          "output_type": "execute_result",
          "data": {
            "text/plain": [
              "Text(0.5, 1.0, 'Musical features mean values')"
            ]
          },
          "metadata": {},
          "execution_count": 158
        },
        {
          "output_type": "display_data",
          "data": {
            "image/png": "[encoded data removed]",
            "text/plain": [
              "<Figure size 288x288 with 1 Axes>"
            ]
          },
          "metadata": {
            "needs_background": "light"
          }
        }
      ]
    },
    {
      "cell_type": "code",
      "metadata": {
        "colab": {
          "base_uri": "https://localhost:8080/"
        },
        "id": "aJJ408hP6rqE",
        "outputId": "60beda6c-4ba3-4fa0-8314-e39cce99b2be"
      },
      "source": [
        "data_music.mean()"
      ],
      "execution_count": null,
      "outputs": [
        {
          "output_type": "execute_result",
          "data": {
            "text/plain": [
              "energy          62.510417\n",
              "danceability    67.843750\n",
              "liveness        16.833333\n",
              "valance         50.333333\n",
              "acousticness    25.083333\n",
              "speechiness     10.125000\n",
              "popularity      79.666667\n",
              "dtype: float64"
            ]
          },
          "metadata": {},
          "execution_count": 58
        }
      ]
    },
    {
      "cell_type": "markdown",
      "metadata": {
        "id": "o-_XdGhb7Dpg"
      },
      "source": [
        "Dari barplot diatas dapat dilihat bahwa danceability dan speechiness dalam lagu top 100 mengalami peningkatan selama bertahun-tahun. Valance juga memiliki tren peningkatan (meskipun sedikit) dari tahun ke tahun. Selain itu, liveness serta acousticness  memiliki range yang sangat lebar pada tahun 2021 dan mean terlihat cukup tinggi dibandingkan tahun-tahun lainnya.\n",
        "\n",
        "Dari plot diatas dapat disimpulkan bahwa spotify top 100 ini rata-rata lagunya memiliki popularity, danceability dan energy yang tinggi. Sedangkan, liveness dan speechiness-nya termasuk rendah."
      ]
    },
    {
      "cell_type": "code",
      "metadata": {
        "colab": {
          "base_uri": "https://localhost:8080/",
          "height": 683
        },
        "id": "_0v4ofFneEGS",
        "outputId": "dcc4e4c4-d33c-425f-91ff-da025c6e3d29"
      },
      "source": [
        "plt.figure(figsize=(10,10))\n",
        "plt.title('Korelasi Map')\n",
        "ax=sns.heatmap(data.corr(),linewidth=3.1,annot=True,center=1)"
      ],
      "execution_count": null,
      "outputs": [
        {
          "output_type": "display_data",
          "data": {
            "image/png": "[encoded data removed]",
            "text/plain": [
              "<Figure size 720x720 with 2 Axes>"
            ]
          },
          "metadata": {
            "needs_background": "light"
          }
        }
      ]
    },
    {
      "cell_type": "markdown",
      "metadata": {
        "id": "Yif0-TzFe3SW"
      },
      "source": [
        "Map diatas adalah nilai yang menunjukkan korelasi antar variabel features. Dapat dilihat bahwa kebanyakan nilai diatas mendekati nol yang artinya tidak memiliki korelasi. Tetapi ada juga korelasi mempunyai korelasi seperti energy dan loudness.dB yang bernilai 0.73."
      ]
    },
    {
      "cell_type": "markdown",
      "metadata": {
        "id": "zkJfG08X9h7q"
      },
      "source": [
        "###2. Genre lagu yang paling banyak pada spotify top 100"
      ]
    },
    {
      "cell_type": "code",
      "metadata": {
        "colab": {
          "base_uri": "https://localhost:8080/"
        },
        "id": "F_PcF7VL-pON",
        "outputId": "4a9200a1-92a2-4da0-c11e-f4b629521ef9"
      },
      "source": [
        "data['top genre'].value_counts()"
      ],
      "execution_count": null,
      "outputs": [
        {
          "output_type": "execute_result",
          "data": {
            "text/plain": [
              "dance pop                    28\n",
              "pop                          11\n",
              "dfw rap                       7\n",
              "modern rock                   6\n",
              "canadian pop                  6\n",
              "canadian contemporary r&b     4\n",
              "electropop                    4\n",
              "melodic rap                   3\n",
              "rap                           2\n",
              "emo rap                       2\n",
              "canadian hip hop              2\n",
              "folk-pop                      2\n",
              "latin                         2\n",
              "detroit hip hop               1\n",
              "north carolina hip hop        1\n",
              "pop dance                     1\n",
              "danish pop                    1\n",
              "alternative rock              1\n",
              "acoustic pop                  1\n",
              "classic rock                  1\n",
              "brostep                       1\n",
              "beatlesque                    1\n",
              "chicago rap                   1\n",
              "boy band                      1\n",
              "cali rap                      1\n",
              "pop rap                       1\n",
              "neo soul                      1\n",
              "australian pop                1\n",
              "electro house                 1\n",
              "conscious hip hop             1\n",
              "lgbtq+ hip hop                1\n",
              "gangster rap                  1\n",
              "irish singer-songwriter       1\n",
              "australian dance              1\n",
              "Name: top genre, dtype: int64"
            ]
          },
          "metadata": {},
          "execution_count": 60
        }
      ]
    },
    {
      "cell_type": "code",
      "metadata": {
        "colab": {
          "base_uri": "https://localhost:8080/",
          "height": 369
        },
        "id": "JP32P2MS-8ml",
        "outputId": "defe0e49-b4ff-49c2-a26a-042c0026f4d7"
      },
      "source": [
        "#Menggunakan catplot\n",
        "#Menghitung genre di spotify top 100. \n",
        "sns.catplot(y = \"top genre\", kind = \"count\", data = data)\n",
        "plt.show()"
      ],
      "execution_count": null,
      "outputs": [
        {
          "output_type": "display_data",
          "data": {
            "image/png": "[encoded data removed]",
            "text/plain": [
              "<Figure size 360x360 with 1 Axes>"
            ]
          },
          "metadata": {
            "needs_background": "light"
          }
        }
      ]
    },
    {
      "cell_type": "markdown",
      "metadata": {
        "id": "CMEOEGdwy7JT"
      },
      "source": [
        "Dapat dilihat bahwa di top 100 ini paling banyak lagu bergenre dance pop yaitu sebanyak 28 dari 100 lagu."
      ]
    },
    {
      "cell_type": "markdown",
      "metadata": {
        "id": "uNyVosCy0TOk"
      },
      "source": [
        "###3. Artis yang memiliki lagu lebih dari satu pada spotify top 100"
      ]
    },
    {
      "cell_type": "code",
      "metadata": {
        "id": "vo9vYM1C_0Q4"
      },
      "source": [
        "data_art = data['artist'].value_counts()"
      ],
      "execution_count": null,
      "outputs": []
    },
    {
      "cell_type": "code",
      "metadata": {
        "colab": {
          "base_uri": "https://localhost:8080/"
        },
        "id": "tf4DfRn1AHzG",
        "outputId": "a90557f2-73fb-4e2d-e5b8-363ea7f3972b"
      },
      "source": [
        "data_top = data_art[data_art>1]\n",
        "data_top"
      ],
      "execution_count": null,
      "outputs": [
        {
          "output_type": "execute_result",
          "data": {
            "text/plain": [
              "Post Malone          7\n",
              "Ed Sheeran           5\n",
              "The Weeknd           4\n",
              "Imagine Dragons      4\n",
              "Billie Eilish        3\n",
              "The Chainsmokers     3\n",
              "Shawn Mendes         3\n",
              "Justin Bieber        3\n",
              "Maroon 5             3\n",
              "Sam Smith            2\n",
              "Luis Fonsi           2\n",
              "Charlie Puth         2\n",
              "Twenty One Pilots    2\n",
              "Travis Scott         2\n",
              "Dua Lipa             2\n",
              "Drake                2\n",
              "XXXTENTACION         2\n",
              "Major Lazer          2\n",
              "Ariana Grande        2\n",
              "Name: artist, dtype: int64"
            ]
          },
          "metadata": {},
          "execution_count": 65
        }
      ]
    },
    {
      "cell_type": "code",
      "metadata": {
        "colab": {
          "base_uri": "https://localhost:8080/",
          "height": 402
        },
        "id": "4vFZ04bUASKa",
        "outputId": "6107cb81-ab72-4199-b9eb-b30c8a14de0e"
      },
      "source": [
        "plt.figure(figsize=(10,5))\n",
        "plt.bar(data_top.index, data_top)\n",
        "plt.xticks(rotation=90);"
      ],
      "execution_count": null,
      "outputs": [
        {
          "output_type": "display_data",
          "data": {
            "image/png": "[encoded data removed]",
            "text/plain": [
              "<Figure size 720x360 with 1 Axes>"
            ]
          },
          "metadata": {
            "needs_background": "light"
          }
        }
      ]
    },
    {
      "cell_type": "markdown",
      "metadata": {
        "id": "nLw6py7Q-X3E"
      },
      "source": [
        "Dari plot diatas dapat disimpulkan bahwa Post Malone memiliki lagu terbanyak yaitu 7 lagu, Ed Sheeran memiliki 5 lagu, The Weeknd dan Imagine Dragons memiliki 4 lagu. Selebihnya mempunya 3 atau 2 lagu pada top 100."
      ]
    },
    {
      "cell_type": "markdown",
      "metadata": {
        "id": "1Ds-aRB5CUHW"
      },
      "source": [
        "###4. Tahun release paling banyak dari lagu top 100"
      ]
    },
    {
      "cell_type": "code",
      "metadata": {
        "colab": {
          "base_uri": "https://localhost:8080/"
        },
        "id": "E2trPA06BwPw",
        "outputId": "2a302136-f285-4a7f-8a66-7b927ba66a59"
      },
      "source": [
        "data_year = data['year'].value_counts()\n",
        "data_year"
      ],
      "execution_count": null,
      "outputs": [
        {
          "output_type": "execute_result",
          "data": {
            "text/plain": [
              "2018    20\n",
              "2019    16\n",
              "2016    16\n",
              "2015    13\n",
              "2017    12\n",
              "2014     6\n",
              "2013     4\n",
              "2021     3\n",
              "2020     3\n",
              "2012     3\n",
              "2008     1\n",
              "2004     1\n",
              "1995     1\n",
              "1975     1\n",
              "Name: year, dtype: int64"
            ]
          },
          "metadata": {},
          "execution_count": 79
        }
      ]
    },
    {
      "cell_type": "code",
      "metadata": {
        "colab": {
          "base_uri": "https://localhost:8080/",
          "height": 365
        },
        "id": "OV6aSqhxF0Sd",
        "outputId": "c4c41c04-4d9f-41a0-b594-b72d3993896e"
      },
      "source": [
        "plt.figure(figsize=(5,5))\n",
        "sns.countplot(data = data , x = data['year'] , order=data['year'].value_counts().index[:14])\n",
        "plt.title('Tahun Release Lagu')\n",
        "plt.xticks(rotation=90);"
      ],
      "execution_count": null,
      "outputs": [
        {
          "output_type": "display_data",
          "data": {
            "image/png": "[encoded data removed]",
            "text/plain": [
              "<Figure size 360x360 with 1 Axes>"
            ]
          },
          "metadata": {
            "needs_background": "light"
          }
        }
      ]
    },
    {
      "cell_type": "markdown",
      "metadata": {
        "id": "IZT6NL7BFUr9"
      },
      "source": [
        "Dari plot diatas dapat diketahui bahwa kebanyakan lagu direlease pada tahun 2018."
      ]
    },
    {
      "cell_type": "markdown",
      "metadata": {
        "id": "APzOMTASHRTp"
      },
      "source": [
        "###5. Lagu top 5 berdasarkan popularity lagu tersebut"
      ]
    },
    {
      "cell_type": "code",
      "metadata": {
        "colab": {
          "base_uri": "https://localhost:8080/",
          "height": 467
        },
        "id": "H6yaQJrOMHpH",
        "outputId": "5f6d8fdd-9584-40b2-b84c-e3335b11b9b8"
      },
      "source": [
        "data_lagu = data.sort_values('popularity',ascending = False)[['title','artist','popularity']]\n",
        "data_lagu = data_lagu[:5]\n",
        "\n",
        "sns.barplot(y = 'title',x = 'popularity', data=data_lagu)\n",
        "data_lagu"
      ],
      "execution_count": null,
      "outputs": [
        {
          "output_type": "execute_result",
          "data": {
            "text/html": [
              "<div>\n",
              "<style scoped>\n",
              "    .dataframe tbody tr th:only-of-type {\n",
              "        vertical-align: middle;\n",
              "    }\n",
              "\n",
              "    .dataframe tbody tr th {\n",
              "        vertical-align: top;\n",
              "    }\n",
              "\n",
              "    .dataframe thead th {\n",
              "        text-align: right;\n",
              "    }\n",
              "</style>\n",
              "<table border=\"1\" class=\"dataframe\">\n",
              "  <thead>\n",
              "    <tr style=\"text-align: right;\">\n",
              "      <th></th>\n",
              "      <th>title</th>\n",
              "      <th>artist</th>\n",
              "      <th>popularity</th>\n",
              "    </tr>\n",
              "  </thead>\n",
              "  <tbody>\n",
              "    <tr>\n",
              "      <th>0</th>\n",
              "      <td>Blinding Lights</td>\n",
              "      <td>The Weeknd</td>\n",
              "      <td>91</td>\n",
              "    </tr>\n",
              "    <tr>\n",
              "      <th>2</th>\n",
              "      <td>Mood (feat. iann dior)</td>\n",
              "      <td>24kGoldn</td>\n",
              "      <td>88</td>\n",
              "    </tr>\n",
              "    <tr>\n",
              "      <th>1</th>\n",
              "      <td>Watermelon Sugar</td>\n",
              "      <td>Harry Styles</td>\n",
              "      <td>88</td>\n",
              "    </tr>\n",
              "    <tr>\n",
              "      <th>3</th>\n",
              "      <td>Someone You Loved</td>\n",
              "      <td>Lewis Capaldi</td>\n",
              "      <td>86</td>\n",
              "    </tr>\n",
              "    <tr>\n",
              "      <th>4</th>\n",
              "      <td>Perfect</td>\n",
              "      <td>Ed Sheeran</td>\n",
              "      <td>86</td>\n",
              "    </tr>\n",
              "  </tbody>\n",
              "</table>\n",
              "</div>"
            ],
            "text/plain": [
              "                    title         artist  popularity\n",
              "0         Blinding Lights     The Weeknd          91\n",
              "2  Mood (feat. iann dior)       24kGoldn          88\n",
              "1        Watermelon Sugar   Harry Styles          88\n",
              "3       Someone You Loved  Lewis Capaldi          86\n",
              "4                 Perfect     Ed Sheeran          86"
            ]
          },
          "metadata": {},
          "execution_count": 139
        },
        {
          "output_type": "display_data",
          "data": {
            "image/png": "[encoded data removed]",
            "text/plain": [
              "<Figure size 432x288 with 1 Axes>"
            ]
          },
          "metadata": {
            "needs_background": "light"
          }
        }
      ]
    },
    {
      "cell_type": "markdown",
      "metadata": {
        "id": "zPsQ65seZeMB"
      },
      "source": [
        "Lagu paling populer adalah Blinding Lights - The Weeknd. Kemudian top 2 sampai 5 berturut-turut yaitu Mood (feat. iann dior) - 24kGoldn, Watermelon Sugar\t- Harry Styles, Someone You Loved\t- Lewis Capaldi, Perfect - Ed Sheeran."
      ]
    }
  ]
}